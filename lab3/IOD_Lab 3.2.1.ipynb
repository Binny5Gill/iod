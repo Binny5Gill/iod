{
 "cells": [
  {
   "cell_type": "markdown",
   "metadata": {
    "id": "fneIB8BIGtiY"
   },
   "source": [
    "<div>\n",
    "<img src=https://www.institutedata.com/wp-content/uploads/2019/10/iod_h_tp_primary_c.svg width=\"300\">\n",
    "</div>"
   ]
  },
  {
   "cell_type": "markdown",
   "metadata": {
    "id": "rdipUchUGtih"
   },
   "source": [
    "# Lab 3.2.1\n",
    "# *Querying the International Space Station*"
   ]
  },
  {
   "cell_type": "markdown",
   "metadata": {
    "id": "b2RLpeJNGtil"
   },
   "source": [
    "## The OpenNotify API"
   ]
  },
  {
   "cell_type": "markdown",
   "metadata": {
    "id": "rrunXmMNGtip"
   },
   "source": [
    "The OpenNotify API exposes a few attributes of the International Space Station (ISS) via a simple, authentication-free interface. The simplicity of this API precludes any need for a dedicated Python library. However, as with many APIs, it accepts requests according to HTTP standards and returns responses in JSON format, so the Python libraries request and json will make managing the I/O simpler still."
   ]
  },
  {
   "cell_type": "code",
   "execution_count": 1,
   "metadata": {
    "id": "xz4PaIIjGtis"
   },
   "outputs": [],
   "source": [
    "import requests\n",
    "import json\n",
    "from datetime import datetime, date, time"
   ]
  },
  {
   "cell_type": "markdown",
   "metadata": {
    "id": "tE2vsQo3Gti0"
   },
   "source": [
    "This request fetches the latest position of the international space station:"
   ]
  },
  {
   "cell_type": "code",
   "execution_count": 6,
   "metadata": {
    "id": "bXBJ6YSPGti3"
   },
   "outputs": [],
   "source": [
    "response = requests.get(\"http://api.open-notify.org/iss-now.json\")"
   ]
  },
  {
   "cell_type": "markdown",
   "metadata": {
    "id": "wTbnWjPGGti-"
   },
   "source": [
    "Print the status code and text of the response:"
   ]
  },
  {
   "cell_type": "code",
   "execution_count": 14,
   "metadata": {
    "colab": {
     "base_uri": "https://localhost:8080/"
    },
    "executionInfo": {
     "elapsed": 349,
     "status": "ok",
     "timestamp": 1656486719496,
     "user": {
      "displayName": "Muru Raj",
      "userId": "16263509272652930332"
     },
     "user_tz": -480
    },
    "id": "_I6hU3-AGtjA",
    "outputId": "063d1285-3a8f-409a-aed5-76511912fb1c"
   },
   "outputs": [],
   "source": [
    "#ANSWER\n",
    "if response.status_code == 200:\n",
    "  data = response.json()\n",
    "    "
   ]
  },
  {
   "cell_type": "code",
   "execution_count": 16,
   "metadata": {
    "colab": {
     "base_uri": "https://localhost:8080/"
    },
    "executionInfo": {
     "elapsed": 324,
     "status": "ok",
     "timestamp": 1656486759324,
     "user": {
      "displayName": "Muru Raj",
      "userId": "16263509272652930332"
     },
     "user_tz": -480
    },
    "id": "-WdeRA2iTYNy",
    "outputId": "ce58f787-ddf2-41e3-fa25-169380a569f6"
   },
   "outputs": [
    {
     "name": "stdout",
     "output_type": "stream",
     "text": [
      "Current ISS location: Latitude -35.0637, Longitude 131.6758\n"
     ]
    }
   ],
   "source": [
    "#ANSWER\n",
    "iss_location = data['iss_position']\n",
    "print(f\"Current ISS location: Latitude {iss_location['latitude']}, Longitude {iss_location['longitude']}\")\n"
   ]
  },
  {
   "cell_type": "code",
   "execution_count": 18,
   "metadata": {},
   "outputs": [
    {
     "name": "stdout",
     "output_type": "stream",
     "text": [
      "Failed to retrieve data. Status code: 200\n"
     ]
    }
   ],
   "source": [
    " print(f\"Failed to retrieve data. Status code: {response.status_code}\")"
   ]
  },
  {
   "cell_type": "markdown",
   "metadata": {
    "id": "eiziNer-GtjF"
   },
   "source": [
    "We can use another API to request the current position of the ISS and the next few times at which it will be over a certain location. The latitude and longitude of Sydney are (-33.87, 151.21)."
   ]
  },
  {
   "cell_type": "code",
   "execution_count": 20,
   "metadata": {
    "id": "2XZ-ygFkGtjH"
   },
   "outputs": [],
   "source": [
    "response = requests.get(\"https://api.g7vrd.co.uk/v1/satellite-passes/25544/-33.87/151.21.json?minelevation=0&hours=24\")"
   ]
  },
  {
   "cell_type": "code",
   "execution_count": null,
   "metadata": {},
   "outputs": [],
   "source": [
    "url = \"https://api.g7vrd.co.uk/v1/satellite-passes/25544/-33.87/151.21.json?minelevation=0&hours=24\"\n",
    "response = requests.get(url)"
   ]
  },
  {
   "cell_type": "code",
   "execution_count": 22,
   "metadata": {},
   "outputs": [],
   "source": [
    "if response.status_code == 200:\n",
    "   data = response.json()  "
   ]
  },
  {
   "cell_type": "code",
   "execution_count": 24,
   "metadata": {},
   "outputs": [
    {
     "name": "stdout",
     "output_type": "stream",
     "text": [
      "{'api_status': 'ALPHA', 'request_timestamp': '2024-08-06T12:55:37.383376335Z', 'norad_id': 25544, 'satellite_name': 'ISS', 'tle_last_retrieved': '2024-08-05T22:42:28.695322742Z', 'lat': -33.87, 'lon': 151.21, 'hours': 24, 'min_elevation': 0, 'query_ms': 9, 'passes': [{'start': '2024-08-06T14:28:07.374Z', 'tca': '2024-08-06T14:31:07.374Z', 'end': '2024-08-06T14:34:27.374Z', 'aos_azimuth': 224, 'los_azimuth': 153, 'max_elevation': 4.0}, {'start': '2024-08-06T16:06:32.374Z', 'tca': '2024-08-06T16:10:02.374Z', 'end': '2024-08-06T16:13:12.374Z', 'aos_azimuth': 204, 'los_azimuth': 129, 'max_elevation': 4.0}, {'start': '2024-08-06T17:42:52.374Z', 'tca': '2024-08-06T17:47:52.374Z', 'end': '2024-08-06T17:52:52.374Z', 'aos_azimuth': 212, 'los_azimuth': 83, 'max_elevation': 17.0}, {'start': '2024-08-06T19:19:22.374Z', 'tca': '2024-08-06T19:24:52.374Z', 'end': '2024-08-06T19:30:12.374Z', 'aos_azimuth': 232, 'los_azimuth': 33, 'max_elevation': 48.0}, {'start': '2024-08-06T20:58:42.374Z', 'tca': '2024-08-06T21:00:42.374Z', 'end': '2024-08-06T21:02:57.374Z', 'aos_azimuth': 278, 'los_azimuth': 324, 'max_elevation': 2.0}, {'start': '2024-08-07T10:22:47.374Z', 'tca': '2024-08-07T10:27:47.374Z', 'end': '2024-08-07T10:33:22.374Z', 'aos_azimuth': 333, 'los_azimuth': 124, 'max_elevation': 33.0}, {'start': '2024-08-07T11:59:47.374Z', 'tca': '2024-08-07T12:04:47.374Z', 'end': '2024-08-07T12:10:02.374Z', 'aos_azimuth': 282, 'los_azimuth': 144, 'max_elevation': 21.0}, {'start': '2024-08-07T13:39:12.374Z', 'tca': '2024-08-07T13:42:42.374Z', 'end': '2024-08-07T13:46:17.374Z', 'aos_azimuth': 234, 'los_azimuth': 154, 'max_elevation': 5.0}]}\n"
     ]
    }
   ],
   "source": [
    "print(data)"
   ]
  },
  {
   "cell_type": "code",
   "execution_count": 26,
   "metadata": {},
   "outputs": [
    {
     "name": "stdout",
     "output_type": "stream",
     "text": [
      "Failed to retrieve data. Status code: 200\n"
     ]
    }
   ],
   "source": [
    " print(f\"Failed to retrieve data. Status code: {response.status_code}\")"
   ]
  },
  {
   "cell_type": "markdown",
   "metadata": {
    "id": "aEl3pwmHGtjN"
   },
   "source": [
    "Print the response header:"
   ]
  },
  {
   "cell_type": "code",
   "execution_count": 32,
   "metadata": {
    "id": "6rsz7gwbGtjP"
   },
   "outputs": [
    {
     "name": "stdout",
     "output_type": "stream",
     "text": [
      "Response Headers:\n",
      "Date: Tue, 06 Aug 2024 13:00:13 GMT\n",
      "Server: Apache\n",
      "Vary: Origin,Access-Control-Request-Method,Access-Control-Request-Headers\n",
      "Access-Control-Allow-Origin: *\n",
      "X-Content-Type-Options: nosniff\n",
      "X-XSS-Protection: 0\n",
      "Cache-Control: no-cache, no-store, max-age=0, must-revalidate\n",
      "Pragma: no-cache\n",
      "Expires: 0\n",
      "X-Frame-Options: DENY\n",
      "Content-Type: application/json\n",
      "Keep-Alive: timeout=5, max=100\n",
      "Connection: Keep-Alive\n",
      "Transfer-Encoding: chunked\n"
     ]
    }
   ],
   "source": [
    "#ANSWER\n",
    "url = \"https://api.g7vrd.co.uk/v1/satellite-passes/25544/-33.87/151.21.json?minelevation=0&hours=24\"\n",
    "\n",
    "response = requests.get(url)\n",
    "print(\"Response Headers:\")\n",
    "for header, value in response.headers.items():\n",
    "    print(f\"{header}: {value}\")\n"
   ]
  },
  {
   "cell_type": "code",
   "execution_count": 34,
   "metadata": {},
   "outputs": [
    {
     "name": "stdout",
     "output_type": "stream",
     "text": [
      "\n",
      "Response Data:\n",
      "{'api_status': 'ALPHA', 'request_timestamp': '2024-08-06T13:00:13.055152030Z', 'norad_id': 25544, 'satellite_name': 'ISS', 'tle_last_retrieved': '2024-08-05T22:42:28.695322742Z', 'lat': -33.87, 'lon': 151.21, 'hours': 24, 'min_elevation': 0, 'query_ms': 14, 'passes': [{'start': '2024-08-06T14:28:08.041Z', 'tca': '2024-08-06T14:31:08.041Z', 'end': '2024-08-06T14:34:28.041Z', 'aos_azimuth': 224, 'los_azimuth': 153, 'max_elevation': 4.0}, {'start': '2024-08-06T16:06:28.041Z', 'tca': '2024-08-06T16:09:58.041Z', 'end': '2024-08-06T16:13:13.041Z', 'aos_azimuth': 205, 'los_azimuth': 129, 'max_elevation': 4.0}, {'start': '2024-08-06T17:42:48.041Z', 'tca': '2024-08-06T17:47:48.041Z', 'end': '2024-08-06T17:52:48.041Z', 'aos_azimuth': 213, 'los_azimuth': 83, 'max_elevation': 17.0}, {'start': '2024-08-06T19:19:18.041Z', 'tca': '2024-08-06T19:24:48.041Z', 'end': '2024-08-06T19:30:13.041Z', 'aos_azimuth': 232, 'los_azimuth': 33, 'max_elevation': 48.0}, {'start': '2024-08-06T20:58:43.041Z', 'tca': '2024-08-06T21:00:43.041Z', 'end': '2024-08-06T21:02:58.041Z', 'aos_azimuth': 278, 'los_azimuth': 324, 'max_elevation': 2.0}, {'start': '2024-08-07T10:22:48.041Z', 'tca': '2024-08-07T10:27:48.041Z', 'end': '2024-08-07T10:33:23.041Z', 'aos_azimuth': 333, 'los_azimuth': 124, 'max_elevation': 33.0}, {'start': '2024-08-07T11:59:48.041Z', 'tca': '2024-08-07T12:04:48.041Z', 'end': '2024-08-07T12:10:03.041Z', 'aos_azimuth': 282, 'los_azimuth': 144, 'max_elevation': 21.0}, {'start': '2024-08-07T13:39:13.041Z', 'tca': '2024-08-07T13:42:43.041Z', 'end': '2024-08-07T13:46:18.041Z', 'aos_azimuth': 234, 'los_azimuth': 154, 'max_elevation': 5.0}]}\n"
     ]
    }
   ],
   "source": [
    "if response.status_code == 200:\n",
    "    # Parse the JSON data\n",
    "    data = response.json()\n",
    "    # Print the data to see the structure\n",
    "    print(\"\\nResponse Data:\")\n",
    "    print(data)\n",
    "else:\n",
    "    print(f\"Failed to retrieve data. Status code: {response.status_code}\")"
   ]
  },
  {
   "cell_type": "markdown",
   "metadata": {
    "id": "W6tqlzySGtjR"
   },
   "source": [
    "Print the content of the response (the data that the server returned):"
   ]
  },
  {
   "cell_type": "markdown",
   "metadata": {
    "id": "N7tHPQzDGtjU"
   },
   "source": [
    "Note that this is a Python byte string:"
   ]
  },
  {
   "cell_type": "markdown",
   "metadata": {
    "id": "5tvv9ht_GtjX"
   },
   "source": [
    "Print just the \"content-type\" value from the header:"
   ]
  },
  {
   "cell_type": "code",
   "execution_count": 36,
   "metadata": {
    "id": "nxWxxLI7GtjX"
   },
   "outputs": [
    {
     "name": "stdout",
     "output_type": "stream",
     "text": [
      "\n",
      "Response Content (Raw):\n",
      "{\"api_status\":\"ALPHA\",\"request_timestamp\":\"2024-08-06T13:00:13.055152030Z\",\"norad_id\":25544,\"satellite_name\":\"ISS\",\"tle_last_retrieved\":\"2024-08-05T22:42:28.695322742Z\",\"lat\":-33.87,\"lon\":151.21,\"hours\":24,\"min_elevation\":0,\"query_ms\":14,\"passes\":[{\"start\":\"2024-08-06T14:28:08.041Z\",\"tca\":\"2024-08-06T14:31:08.041Z\",\"end\":\"2024-08-06T14:34:28.041Z\",\"aos_azimuth\":224,\"los_azimuth\":153,\"max_elevation\":4.0},{\"start\":\"2024-08-06T16:06:28.041Z\",\"tca\":\"2024-08-06T16:09:58.041Z\",\"end\":\"2024-08-06T16:13:13.041Z\",\"aos_azimuth\":205,\"los_azimuth\":129,\"max_elevation\":4.0},{\"start\":\"2024-08-06T17:42:48.041Z\",\"tca\":\"2024-08-06T17:47:48.041Z\",\"end\":\"2024-08-06T17:52:48.041Z\",\"aos_azimuth\":213,\"los_azimuth\":83,\"max_elevation\":17.0},{\"start\":\"2024-08-06T19:19:18.041Z\",\"tca\":\"2024-08-06T19:24:48.041Z\",\"end\":\"2024-08-06T19:30:13.041Z\",\"aos_azimuth\":232,\"los_azimuth\":33,\"max_elevation\":48.0},{\"start\":\"2024-08-06T20:58:43.041Z\",\"tca\":\"2024-08-06T21:00:43.041Z\",\"end\":\"2024-08-06T21:02:58.041Z\",\"aos_azimuth\":278,\"los_azimuth\":324,\"max_elevation\":2.0},{\"start\":\"2024-08-07T10:22:48.041Z\",\"tca\":\"2024-08-07T10:27:48.041Z\",\"end\":\"2024-08-07T10:33:23.041Z\",\"aos_azimuth\":333,\"los_azimuth\":124,\"max_elevation\":33.0},{\"start\":\"2024-08-07T11:59:48.041Z\",\"tca\":\"2024-08-07T12:04:48.041Z\",\"end\":\"2024-08-07T12:10:03.041Z\",\"aos_azimuth\":282,\"los_azimuth\":144,\"max_elevation\":21.0},{\"start\":\"2024-08-07T13:39:13.041Z\",\"tca\":\"2024-08-07T13:42:43.041Z\",\"end\":\"2024-08-07T13:46:18.041Z\",\"aos_azimuth\":234,\"los_azimuth\":154,\"max_elevation\":5.0}]}\n"
     ]
    }
   ],
   "source": [
    "#ANSWER\n",
    "print(\"\\nResponse Content (Raw):\")\n",
    "print(response.text) "
   ]
  },
  {
   "cell_type": "code",
   "execution_count": 38,
   "metadata": {},
   "outputs": [
    {
     "name": "stdout",
     "output_type": "stream",
     "text": [
      "\n",
      "Response Data (Parsed JSON):\n",
      "{'api_status': 'ALPHA', 'request_timestamp': '2024-08-06T13:00:13.055152030Z', 'norad_id': 25544, 'satellite_name': 'ISS', 'tle_last_retrieved': '2024-08-05T22:42:28.695322742Z', 'lat': -33.87, 'lon': 151.21, 'hours': 24, 'min_elevation': 0, 'query_ms': 14, 'passes': [{'start': '2024-08-06T14:28:08.041Z', 'tca': '2024-08-06T14:31:08.041Z', 'end': '2024-08-06T14:34:28.041Z', 'aos_azimuth': 224, 'los_azimuth': 153, 'max_elevation': 4.0}, {'start': '2024-08-06T16:06:28.041Z', 'tca': '2024-08-06T16:09:58.041Z', 'end': '2024-08-06T16:13:13.041Z', 'aos_azimuth': 205, 'los_azimuth': 129, 'max_elevation': 4.0}, {'start': '2024-08-06T17:42:48.041Z', 'tca': '2024-08-06T17:47:48.041Z', 'end': '2024-08-06T17:52:48.041Z', 'aos_azimuth': 213, 'los_azimuth': 83, 'max_elevation': 17.0}, {'start': '2024-08-06T19:19:18.041Z', 'tca': '2024-08-06T19:24:48.041Z', 'end': '2024-08-06T19:30:13.041Z', 'aos_azimuth': 232, 'los_azimuth': 33, 'max_elevation': 48.0}, {'start': '2024-08-06T20:58:43.041Z', 'tca': '2024-08-06T21:00:43.041Z', 'end': '2024-08-06T21:02:58.041Z', 'aos_azimuth': 278, 'los_azimuth': 324, 'max_elevation': 2.0}, {'start': '2024-08-07T10:22:48.041Z', 'tca': '2024-08-07T10:27:48.041Z', 'end': '2024-08-07T10:33:23.041Z', 'aos_azimuth': 333, 'los_azimuth': 124, 'max_elevation': 33.0}, {'start': '2024-08-07T11:59:48.041Z', 'tca': '2024-08-07T12:04:48.041Z', 'end': '2024-08-07T12:10:03.041Z', 'aos_azimuth': 282, 'los_azimuth': 144, 'max_elevation': 21.0}, {'start': '2024-08-07T13:39:13.041Z', 'tca': '2024-08-07T13:42:43.041Z', 'end': '2024-08-07T13:46:18.041Z', 'aos_azimuth': 234, 'los_azimuth': 154, 'max_elevation': 5.0}]}\n"
     ]
    }
   ],
   "source": [
    "if response.status_code == 200:\n",
    "    # Parse the JSON data\n",
    "    data = response.json()\n",
    "    # Print the parsed JSON data\n",
    "    print(\"\\nResponse Data (Parsed JSON):\")\n",
    "    print(data)\n",
    "else:\n",
    "    print(f\"Failed to retrieve data. Status code: {response.status_code}\")"
   ]
  },
  {
   "cell_type": "markdown",
   "metadata": {
    "id": "7lPlgn_hGtjZ"
   },
   "source": [
    "JSON was designed to be easy for computers to read, not for people. The `requests` library can decode the JSON byte string:"
   ]
  },
  {
   "cell_type": "code",
   "execution_count": 40,
   "metadata": {
    "id": "nGVtgDaqGtja"
   },
   "outputs": [
    {
     "name": "stdout",
     "output_type": "stream",
     "text": [
      "{'api_status': 'ALPHA', 'request_timestamp': '2024-08-06T13:00:13.055152030Z', 'norad_id': 25544, 'satellite_name': 'ISS', 'tle_last_retrieved': '2024-08-05T22:42:28.695322742Z', 'lat': -33.87, 'lon': 151.21, 'hours': 24, 'min_elevation': 0, 'query_ms': 14, 'passes': [{'start': '2024-08-06T14:28:08.041Z', 'tca': '2024-08-06T14:31:08.041Z', 'end': '2024-08-06T14:34:28.041Z', 'aos_azimuth': 224, 'los_azimuth': 153, 'max_elevation': 4.0}, {'start': '2024-08-06T16:06:28.041Z', 'tca': '2024-08-06T16:09:58.041Z', 'end': '2024-08-06T16:13:13.041Z', 'aos_azimuth': 205, 'los_azimuth': 129, 'max_elevation': 4.0}, {'start': '2024-08-06T17:42:48.041Z', 'tca': '2024-08-06T17:47:48.041Z', 'end': '2024-08-06T17:52:48.041Z', 'aos_azimuth': 213, 'los_azimuth': 83, 'max_elevation': 17.0}, {'start': '2024-08-06T19:19:18.041Z', 'tca': '2024-08-06T19:24:48.041Z', 'end': '2024-08-06T19:30:13.041Z', 'aos_azimuth': 232, 'los_azimuth': 33, 'max_elevation': 48.0}, {'start': '2024-08-06T20:58:43.041Z', 'tca': '2024-08-06T21:00:43.041Z', 'end': '2024-08-06T21:02:58.041Z', 'aos_azimuth': 278, 'los_azimuth': 324, 'max_elevation': 2.0}, {'start': '2024-08-07T10:22:48.041Z', 'tca': '2024-08-07T10:27:48.041Z', 'end': '2024-08-07T10:33:23.041Z', 'aos_azimuth': 333, 'los_azimuth': 124, 'max_elevation': 33.0}, {'start': '2024-08-07T11:59:48.041Z', 'tca': '2024-08-07T12:04:48.041Z', 'end': '2024-08-07T12:10:03.041Z', 'aos_azimuth': 282, 'los_azimuth': 144, 'max_elevation': 21.0}, {'start': '2024-08-07T13:39:13.041Z', 'tca': '2024-08-07T13:42:43.041Z', 'end': '2024-08-07T13:46:18.041Z', 'aos_azimuth': 234, 'los_azimuth': 154, 'max_elevation': 5.0}]}\n"
     ]
    }
   ],
   "source": [
    "overheads = response.json()\n",
    "print(overheads)"
   ]
  },
  {
   "cell_type": "markdown",
   "metadata": {
    "id": "l9GOdNK5Gtjc"
   },
   "source": [
    "What kind of object did this give us?"
   ]
  },
  {
   "cell_type": "code",
   "execution_count": 42,
   "metadata": {
    "id": "JBS4nRmSGtjd"
   },
   "outputs": [
    {
     "name": "stdout",
     "output_type": "stream",
     "text": [
      "Type of the object returned by response.json():\n",
      "<class 'dict'>\n"
     ]
    }
   ],
   "source": [
    "#ANSWER:\n",
    "print(\"Type of the object returned by response.json():\")\n",
    "print(type(overheads))"
   ]
  },
  {
   "cell_type": "code",
   "execution_count": 52,
   "metadata": {},
   "outputs": [
    {
     "name": "stdout",
     "output_type": "stream",
     "text": [
      "\n",
      "Content of the object:\n",
      "{'api_status': 'ALPHA', 'request_timestamp': '2024-08-06T13:00:13.055152030Z', 'norad_id': 25544, 'satellite_name': 'ISS', 'tle_last_retrieved': '2024-08-05T22:42:28.695322742Z', 'lat': -33.87, 'lon': 151.21, 'hours': 24, 'min_elevation': 0, 'query_ms': 14, 'passes': [{'start': '2024-08-06T14:28:08.041Z', 'tca': '2024-08-06T14:31:08.041Z', 'end': '2024-08-06T14:34:28.041Z', 'aos_azimuth': 224, 'los_azimuth': 153, 'max_elevation': 4.0}, {'start': '2024-08-06T16:06:28.041Z', 'tca': '2024-08-06T16:09:58.041Z', 'end': '2024-08-06T16:13:13.041Z', 'aos_azimuth': 205, 'los_azimuth': 129, 'max_elevation': 4.0}, {'start': '2024-08-06T17:42:48.041Z', 'tca': '2024-08-06T17:47:48.041Z', 'end': '2024-08-06T17:52:48.041Z', 'aos_azimuth': 213, 'los_azimuth': 83, 'max_elevation': 17.0}, {'start': '2024-08-06T19:19:18.041Z', 'tca': '2024-08-06T19:24:48.041Z', 'end': '2024-08-06T19:30:13.041Z', 'aos_azimuth': 232, 'los_azimuth': 33, 'max_elevation': 48.0}, {'start': '2024-08-06T20:58:43.041Z', 'tca': '2024-08-06T21:00:43.041Z', 'end': '2024-08-06T21:02:58.041Z', 'aos_azimuth': 278, 'los_azimuth': 324, 'max_elevation': 2.0}, {'start': '2024-08-07T10:22:48.041Z', 'tca': '2024-08-07T10:27:48.041Z', 'end': '2024-08-07T10:33:23.041Z', 'aos_azimuth': 333, 'los_azimuth': 124, 'max_elevation': 33.0}, {'start': '2024-08-07T11:59:48.041Z', 'tca': '2024-08-07T12:04:48.041Z', 'end': '2024-08-07T12:10:03.041Z', 'aos_azimuth': 282, 'los_azimuth': 144, 'max_elevation': 21.0}, {'start': '2024-08-07T13:39:13.041Z', 'tca': '2024-08-07T13:42:43.041Z', 'end': '2024-08-07T13:46:18.041Z', 'aos_azimuth': 234, 'los_azimuth': 154, 'max_elevation': 5.0}]}\n",
      "Failed to retrieve data. Status code: 200\n"
     ]
    }
   ],
   "source": [
    "print(\"\\nContent of the object:\")\n",
    "print(overheads)\n",
    "print(f\"Failed to retrieve data. Status code: {response.status_code}\")"
   ]
  },
  {
   "cell_type": "markdown",
   "metadata": {
    "id": "2ZYJabXQGtjg"
   },
   "source": [
    "Python dicts are easier to work with, but the data we want is still buried in that data structure, so we have to dig it out. First, extract the `passes` value to a separate list:"
   ]
  },
  {
   "cell_type": "code",
   "execution_count": 55,
   "metadata": {
    "id": "0u8LZg4dGtjh"
   },
   "outputs": [
    {
     "name": "stdout",
     "output_type": "stream",
     "text": [
      "Type of the object returned by response.json():\n",
      "<class 'dict'>\n"
     ]
    }
   ],
   "source": [
    "#ANSWER:\n",
    "print(\"Type of the object returned by response.json():\")\n",
    "print(type(data))\n",
    "    "
   ]
  },
  {
   "cell_type": "code",
   "execution_count": 59,
   "metadata": {},
   "outputs": [
    {
     "name": "stdout",
     "output_type": "stream",
     "text": [
      "\n",
      "Entire JSON Data:\n",
      "{'api_status': 'ALPHA', 'request_timestamp': '2024-08-06T13:00:13.055152030Z', 'norad_id': 25544, 'satellite_name': 'ISS', 'tle_last_retrieved': '2024-08-05T22:42:28.695322742Z', 'lat': -33.87, 'lon': 151.21, 'hours': 24, 'min_elevation': 0, 'query_ms': 14, 'passes': [{'start': '2024-08-06T14:28:08.041Z', 'tca': '2024-08-06T14:31:08.041Z', 'end': '2024-08-06T14:34:28.041Z', 'aos_azimuth': 224, 'los_azimuth': 153, 'max_elevation': 4.0}, {'start': '2024-08-06T16:06:28.041Z', 'tca': '2024-08-06T16:09:58.041Z', 'end': '2024-08-06T16:13:13.041Z', 'aos_azimuth': 205, 'los_azimuth': 129, 'max_elevation': 4.0}, {'start': '2024-08-06T17:42:48.041Z', 'tca': '2024-08-06T17:47:48.041Z', 'end': '2024-08-06T17:52:48.041Z', 'aos_azimuth': 213, 'los_azimuth': 83, 'max_elevation': 17.0}, {'start': '2024-08-06T19:19:18.041Z', 'tca': '2024-08-06T19:24:48.041Z', 'end': '2024-08-06T19:30:13.041Z', 'aos_azimuth': 232, 'los_azimuth': 33, 'max_elevation': 48.0}, {'start': '2024-08-06T20:58:43.041Z', 'tca': '2024-08-06T21:00:43.041Z', 'end': '2024-08-06T21:02:58.041Z', 'aos_azimuth': 278, 'los_azimuth': 324, 'max_elevation': 2.0}, {'start': '2024-08-07T10:22:48.041Z', 'tca': '2024-08-07T10:27:48.041Z', 'end': '2024-08-07T10:33:23.041Z', 'aos_azimuth': 333, 'los_azimuth': 124, 'max_elevation': 33.0}, {'start': '2024-08-07T11:59:48.041Z', 'tca': '2024-08-07T12:04:48.041Z', 'end': '2024-08-07T12:10:03.041Z', 'aos_azimuth': 282, 'los_azimuth': 144, 'max_elevation': 21.0}, {'start': '2024-08-07T13:39:13.041Z', 'tca': '2024-08-07T13:42:43.041Z', 'end': '2024-08-07T13:46:18.041Z', 'aos_azimuth': 234, 'los_azimuth': 154, 'max_elevation': 5.0}]}\n"
     ]
    }
   ],
   "source": [
    "print(\"\\nEntire JSON Data:\")\n",
    "print(data)\n",
    "    "
   ]
  },
  {
   "cell_type": "code",
   "execution_count": 61,
   "metadata": {},
   "outputs": [
    {
     "name": "stdout",
     "output_type": "stream",
     "text": [
      "\n",
      "Extracted 'passes' value:\n",
      "[{'start': '2024-08-06T14:28:08.041Z', 'tca': '2024-08-06T14:31:08.041Z', 'end': '2024-08-06T14:34:28.041Z', 'aos_azimuth': 224, 'los_azimuth': 153, 'max_elevation': 4.0}, {'start': '2024-08-06T16:06:28.041Z', 'tca': '2024-08-06T16:09:58.041Z', 'end': '2024-08-06T16:13:13.041Z', 'aos_azimuth': 205, 'los_azimuth': 129, 'max_elevation': 4.0}, {'start': '2024-08-06T17:42:48.041Z', 'tca': '2024-08-06T17:47:48.041Z', 'end': '2024-08-06T17:52:48.041Z', 'aos_azimuth': 213, 'los_azimuth': 83, 'max_elevation': 17.0}, {'start': '2024-08-06T19:19:18.041Z', 'tca': '2024-08-06T19:24:48.041Z', 'end': '2024-08-06T19:30:13.041Z', 'aos_azimuth': 232, 'los_azimuth': 33, 'max_elevation': 48.0}, {'start': '2024-08-06T20:58:43.041Z', 'tca': '2024-08-06T21:00:43.041Z', 'end': '2024-08-06T21:02:58.041Z', 'aos_azimuth': 278, 'los_azimuth': 324, 'max_elevation': 2.0}, {'start': '2024-08-07T10:22:48.041Z', 'tca': '2024-08-07T10:27:48.041Z', 'end': '2024-08-07T10:33:23.041Z', 'aos_azimuth': 333, 'los_azimuth': 124, 'max_elevation': 33.0}, {'start': '2024-08-07T11:59:48.041Z', 'tca': '2024-08-07T12:04:48.041Z', 'end': '2024-08-07T12:10:03.041Z', 'aos_azimuth': 282, 'los_azimuth': 144, 'max_elevation': 21.0}, {'start': '2024-08-07T13:39:13.041Z', 'tca': '2024-08-07T13:42:43.041Z', 'end': '2024-08-07T13:46:18.041Z', 'aos_azimuth': 234, 'los_azimuth': 154, 'max_elevation': 5.0}]\n"
     ]
    }
   ],
   "source": [
    "passes = data.get('passes', [])\n",
    "print(\"\\nExtracted 'passes' value:\")\n",
    "print(passes)"
   ]
  },
  {
   "cell_type": "markdown",
   "metadata": {
    "id": "hMHzLrfoGtjj"
   },
   "source": [
    "Now extract the `start` strings into an array called `srisetimes`:"
   ]
  },
  {
   "cell_type": "code",
   "execution_count": 63,
   "metadata": {
    "id": "nXqJ8_F2Gtjj"
   },
   "outputs": [],
   "source": [
    "#ANSWER:\n",
    "srisetimes = []\n",
    "for pass_info in passes:\n",
    "        start_time = pass_info.get('start', None)  \n",
    "        if start_time:\n",
    "            srisetimes.append(start_time)"
   ]
  },
  {
   "cell_type": "code",
   "execution_count": 65,
   "metadata": {},
   "outputs": [
    {
     "name": "stdout",
     "output_type": "stream",
     "text": [
      "\n",
      "Extracted 'start' times:\n",
      "['2024-08-06T14:28:08.041Z', '2024-08-06T16:06:28.041Z', '2024-08-06T17:42:48.041Z', '2024-08-06T19:19:18.041Z', '2024-08-06T20:58:43.041Z', '2024-08-07T10:22:48.041Z', '2024-08-07T11:59:48.041Z', '2024-08-07T13:39:13.041Z']\n"
     ]
    }
   ],
   "source": [
    "print(\"\\nExtracted 'start' times:\")\n",
    "print(srisetimes)"
   ]
  },
  {
   "cell_type": "markdown",
   "metadata": {
    "id": "RItuBRt-Gtjl"
   },
   "source": [
    "These are strings. We convert these to an array of Python `datetime` values called `risetimes`:"
   ]
  },
  {
   "cell_type": "code",
   "execution_count": 67,
   "metadata": {
    "id": "8rzyAcLTGtjm"
   },
   "outputs": [
    {
     "data": {
      "text/plain": [
       "[datetime.datetime(2024, 8, 6, 14, 28, 8, 41000),\n",
       " datetime.datetime(2024, 8, 6, 16, 6, 28, 41000),\n",
       " datetime.datetime(2024, 8, 6, 17, 42, 48, 41000),\n",
       " datetime.datetime(2024, 8, 6, 19, 19, 18, 41000),\n",
       " datetime.datetime(2024, 8, 6, 20, 58, 43, 41000),\n",
       " datetime.datetime(2024, 8, 7, 10, 22, 48, 41000),\n",
       " datetime.datetime(2024, 8, 7, 11, 59, 48, 41000),\n",
       " datetime.datetime(2024, 8, 7, 13, 39, 13, 41000)]"
      ]
     },
     "execution_count": 67,
     "metadata": {},
     "output_type": "execute_result"
    }
   ],
   "source": [
    "risetimes = [datetime.strptime(xpass['start'], \"%Y-%m-%dT%H:%M:%S.%fZ\") for xpass in passes]\n",
    "risetimes"
   ]
  },
  {
   "cell_type": "markdown",
   "metadata": {
    "id": "l1EmKOFqGtjn"
   },
   "source": [
    "Finally, use `risetime.strftime` to print these in a format that people understand:\n",
    "\n",
    "```\n",
    "e.g.\n",
    "18/10/22 07:05\n",
    "18/10/22 08:41\n",
    "18/10/22 10:20\n",
    "18/10/22 12:00\n",
    "18/10/22 01:37\n",
    "18/10/22 03:13\n",
    "```\n",
    "\n"
   ]
  },
  {
   "cell_type": "code",
   "execution_count": 81,
   "metadata": {
    "id": "AkBE76VqGtjo"
   },
   "outputs": [
    {
     "name": "stdout",
     "output_type": "stream",
     "text": [
      "\n",
      "Extracted 'start' times as datetime objects:\n",
      "2024-08-06 14:28:08.041000\n",
      "2024-08-06 16:06:28.041000\n",
      "2024-08-06 17:42:48.041000\n",
      "2024-08-06 19:19:18.041000\n",
      "2024-08-06 20:58:43.041000\n",
      "2024-08-07 10:22:48.041000\n",
      "2024-08-07 11:59:48.041000\n",
      "2024-08-07 13:39:13.041000\n"
     ]
    }
   ],
   "source": [
    "#ANSWER:\n",
    "print(\"\\nExtracted 'start' times as datetime objects:\")\n",
    "for risetime in risetimes:\n",
    "     print(risetime)\n"
   ]
  },
  {
   "cell_type": "markdown",
   "metadata": {
    "id": "iNm6GjX3Gtjq"
   },
   "source": [
    "Finally, here is an endpoint that tells us who is on board:"
   ]
  },
  {
   "cell_type": "code",
   "execution_count": null,
   "metadata": {
    "id": "12yXs_OgGtjs"
   },
   "outputs": [],
   "source": [
    "response = requests.get(\"http://api.open-notify.org/astros.json\")"
   ]
  },
  {
   "cell_type": "code",
   "execution_count": 83,
   "metadata": {},
   "outputs": [],
   "source": [
    "url = \"http://api.open-notify.org/astros.json\"\n",
    "response = requests.get(url)\n",
    "if response.status_code == 200:\n",
    "    data = response.json()"
   ]
  },
  {
   "cell_type": "code",
   "execution_count": 85,
   "metadata": {},
   "outputs": [
    {
     "name": "stdout",
     "output_type": "stream",
     "text": [
      "Status Code: 200\n"
     ]
    }
   ],
   "source": [
    "print(\"Status Code:\", response.status_code)"
   ]
  },
  {
   "cell_type": "markdown",
   "metadata": {
    "id": "0Np4S0aAGtj0"
   },
   "source": [
    "Referring to the methods used above, extract the number of astronauts and their names:"
   ]
  },
  {
   "cell_type": "code",
   "execution_count": 89,
   "metadata": {
    "id": "Oqx5L19_Gtj1"
   },
   "outputs": [
    {
     "name": "stdout",
     "output_type": "stream",
     "text": [
      "Total number of astronauts: 12\n"
     ]
    }
   ],
   "source": [
    "#ANSWER:\n",
    "number_of_astronauts = data.get('number', 0)\n",
    "crew = data.get('people', [])\n",
    "print(f\"Total number of astronauts: {number_of_astronauts}\")    \n",
    "    "
   ]
  },
  {
   "cell_type": "markdown",
   "metadata": {
    "id": "A4-DBw_bGtj2"
   },
   "source": [
    "## HOMEWORK\n"
   ]
  },
  {
   "cell_type": "markdown",
   "metadata": {
    "id": "c134mC6WGtj3"
   },
   "source": [
    "1. Write a simple handler for the response status code (refer to lab resources slide for HTTP response codes). As this Jupyter Notebook is an interactive device, the handler does not need to manage subsequent code execution (i.e. by branching or aborting execution), although it should return something that could be used to do so if deployed in a Python program."
   ]
  },
  {
   "cell_type": "code",
   "execution_count": 190,
   "metadata": {
    "id": "FZM2NAWuGtj4"
   },
   "outputs": [],
   "source": [
    "#ANSWER:\n",
    "def handleResponse(response):\n",
    "    '''\n",
    "    Handles the HTTP response status code.\n",
    "    Args:\n",
    "        response (requests.Response): The HTTP response object.\n",
    "        verbose (bool): If True, prints detailed information.\n",
    "    Returns Boolean Value, Status Code,\n",
    "    '''\n",
    "    \n",
    "  # if Status Code is 200 return false, and status code\n",
    "  # Otherwise Return True and Status Code"
   ]
  },
  {
   "cell_type": "code",
   "execution_count": 192,
   "metadata": {},
   "outputs": [],
   "source": [
    "status_code = response.status_code"
   ]
  },
  {
   "cell_type": "code",
   "execution_count": 194,
   "metadata": {},
   "outputs": [
    {
     "name": "stdout",
     "output_type": "stream",
     "text": [
      "Request was successful. Status Code: 200\n"
     ]
    }
   ],
   "source": [
    "print(\"Request was successful. Status Code:\", status_code)\n",
    "        "
   ]
  },
  {
   "cell_type": "markdown",
   "metadata": {
    "id": "9aPstlTIGtj5"
   },
   "source": [
    "2. Test your response handler on some correct and incorrect API calls."
   ]
  },
  {
   "cell_type": "code",
   "execution_count": 200,
   "metadata": {},
   "outputs": [],
   "source": [
    "def handleResponse(response):\n",
    "    \"\"\"\n",
    "    Handles the HTTP response status code.\n",
    "    \n",
    "    Args:\n",
    "        response (requests.Response): The HTTP response object.\n",
    "        verbose (bool): If True, prints detailed information.\n",
    "        \n",
    "    Returns:\n",
    "        bool: True if the status code indicates an error, False otherwise.\n",
    "        int: The status code of the response.\n",
    "    \"\"\""
   ]
  },
  {
   "cell_type": "code",
   "execution_count": 202,
   "metadata": {},
   "outputs": [],
   "source": [
    "status_code = response.status_code\n",
    "    "
   ]
  },
  {
   "cell_type": "code",
   "execution_count": 204,
   "metadata": {},
   "outputs": [],
   "source": [
    "is_error = status_code != 200\n"
   ]
  },
  {
   "cell_type": "code",
   "execution_count": 206,
   "metadata": {},
   "outputs": [],
   "source": [
    "def test_handle_response():\n",
    "    print(\"Testing correct API call...\")\n",
    "    correct_url = \"http://api.open-notify.org/astros.json\"  # Known to return 200 OK\n",
    "    response_correct = requests.get(correct_url)\n",
    "    error_correct, status_code_correct = handleResponse(response_correct)\n",
    "    print(f\"Error: {error_correct}, Status Code: {status_code_correct}\\n\")\n"
   ]
  },
  {
   "cell_type": "markdown",
   "metadata": {
    "id": "k0AWq0rIIPza"
   },
   "source": [
    ">"
   ]
  },
  {
   "cell_type": "markdown",
   "metadata": {
    "id": "561tVw5LITP8"
   },
   "source": [
    ">"
   ]
  },
  {
   "cell_type": "markdown",
   "metadata": {
    "id": "H8Z7AkhTIUi3"
   },
   "source": [
    ">"
   ]
  },
  {
   "cell_type": "markdown",
   "metadata": {
    "id": "2lHXfE7KIHQp"
   },
   "source": [
    "\n",
    "\n",
    "---\n",
    "\n",
    "\n",
    "\n",
    "---\n",
    "\n",
    "\n",
    "\n",
    "> > > > > > > > > © 2024 Institute of Data\n",
    "\n",
    "\n",
    "---\n",
    "\n",
    "\n",
    "\n",
    "---\n",
    "\n",
    "\n",
    "\n"
   ]
  }
 ],
 "metadata": {
  "colab": {
   "provenance": [
    {
     "file_id": "1RknypYS3TD4wPumGiPV69EWtkq-3UBwF",
     "timestamp": 1553136072736
    }
   ]
  },
  "kernelspec": {
   "display_name": "Python 3 (ipykernel)",
   "language": "python",
   "name": "python3"
  },
  "language_info": {
   "codemirror_mode": {
    "name": "ipython",
    "version": 3
   },
   "file_extension": ".py",
   "mimetype": "text/x-python",
   "name": "python",
   "nbconvert_exporter": "python",
   "pygments_lexer": "ipython3",
   "version": "3.11.7"
  }
 },
 "nbformat": 4,
 "nbformat_minor": 4
}
