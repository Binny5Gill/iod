{
 "cells": [
  {
   "cell_type": "markdown",
   "metadata": {
    "id": "jZSSKjAWXd3j"
   },
   "source": [
    "<div>\n",
    "<img src=https://www.institutedata.com/wp-content/uploads/2019/10/iod_h_tp_primary_c.svg width=\"300\">\n",
    "</div>"
   ]
  },
  {
   "cell_type": "markdown",
   "metadata": {
    "id": "2Ms9riXMXd3k"
   },
   "source": [
    "# Lab 4.1.1 Linear Regression"
   ]
  },
  {
   "cell_type": "markdown",
   "metadata": {
    "id": "twocr7v8Xd3l"
   },
   "source": [
    "## Prediction of House Price Using Linear Regression"
   ]
  },
  {
   "cell_type": "markdown",
   "metadata": {
    "id": "0j3ZiTCPXd3m"
   },
   "source": [
    "### Data\n",
    "\n",
    "The Sacramento real estate transactions file is a list of 985 real estate transactions in the Sacramento area reported over a five-day period, as reported by the Sacramento Bee."
   ]
  },
  {
   "cell_type": "code",
   "execution_count": 42,
   "metadata": {
    "id": "hejYh49cXd3n"
   },
   "outputs": [],
   "source": [
    "import pandas as pd\n",
    "import numpy as np\n",
    "import pandas as pd\n",
    "from sklearn.model_selection import train_test_split\n",
    "from sklearn.linear_model import LinearRegression\n",
    "import matplotlib.pyplot as plt\n",
    "\n",
    "%matplotlib inline"
   ]
  },
  {
   "cell_type": "markdown",
   "metadata": {
    "id": "BlumKNPDXd3q"
   },
   "source": [
    "### 1. Explore Data"
   ]
  },
  {
   "cell_type": "markdown",
   "metadata": {
    "id": "h1FUHCAnXd3r"
   },
   "source": [
    "\n",
    "Perform EDA on this dataset. Use what you have learned so far. Be creative. List all your findings."
   ]
  },
  {
   "cell_type": "code",
   "execution_count": 38,
   "metadata": {
    "id": "C8BX-oTKXd3s"
   },
   "outputs": [],
   "source": [
    " house_csv = \"Sacramento_transactions.csv\"\n",
    "df = pd.read_csv(house_csv)"
   ]
  },
  {
   "cell_type": "code",
   "execution_count": 9,
   "metadata": {},
   "outputs": [
    {
     "name": "stdout",
     "output_type": "stream",
     "text": [
      "             street        city    zip state  beds  baths  sq__ft  \\\n",
      "0      3526 HIGH ST  SACRAMENTO  95838    CA     2      1     836   \n",
      "1       51 OMAHA CT  SACRAMENTO  95823    CA     3      1    1167   \n",
      "2    2796 BRANCH ST  SACRAMENTO  95815    CA     2      1     796   \n",
      "3  2805 JANETTE WAY  SACRAMENTO  95815    CA     2      1     852   \n",
      "4   6001 MCMAHON DR  SACRAMENTO  95824    CA     2      1     797   \n",
      "\n",
      "          type                     sale_date  price   latitude   longitude  \n",
      "0  Residential  Wed May 21 00:00:00 EDT 2008  59222  38.631913 -121.434879  \n",
      "1  Residential  Wed May 21 00:00:00 EDT 2008  68212  38.478902 -121.431028  \n",
      "2  Residential  Wed May 21 00:00:00 EDT 2008  68880  38.618305 -121.443839  \n",
      "3  Residential  Wed May 21 00:00:00 EDT 2008  69307  38.616835 -121.439146  \n",
      "4  Residential  Wed May 21 00:00:00 EDT 2008  81900  38.519470 -121.435768  \n"
     ]
    }
   ],
   "source": [
    "print(df.head())"
   ]
  },
  {
   "cell_type": "code",
   "execution_count": 11,
   "metadata": {},
   "outputs": [
    {
     "name": "stdout",
     "output_type": "stream",
     "text": [
      "                zip        beds       baths       sq__ft          price  \\\n",
      "count    985.000000  985.000000  985.000000   985.000000     985.000000   \n",
      "mean   95750.697462    2.911675    1.776650  1314.916751  234144.263959   \n",
      "std       85.176072    1.307932    0.895371   853.048243  138365.839085   \n",
      "min    95603.000000    0.000000    0.000000     0.000000    1551.000000   \n",
      "25%    95660.000000    2.000000    1.000000   952.000000  145000.000000   \n",
      "50%    95762.000000    3.000000    2.000000  1304.000000  213750.000000   \n",
      "75%    95828.000000    4.000000    2.000000  1718.000000  300000.000000   \n",
      "max    95864.000000    8.000000    5.000000  5822.000000  884790.000000   \n",
      "\n",
      "         latitude   longitude  \n",
      "count  985.000000  985.000000  \n",
      "mean    38.607732 -121.355982  \n",
      "std      0.145433    0.138278  \n",
      "min     38.241514 -121.551704  \n",
      "25%     38.482717 -121.446127  \n",
      "50%     38.626582 -121.376220  \n",
      "75%     38.695589 -121.295778  \n",
      "max     39.020808 -120.597599  \n"
     ]
    }
   ],
   "source": [
    "print(df.describe())"
   ]
  },
  {
   "cell_type": "code",
   "execution_count": 13,
   "metadata": {},
   "outputs": [
    {
     "name": "stdout",
     "output_type": "stream",
     "text": [
      "street       0\n",
      "city         0\n",
      "zip          0\n",
      "state        0\n",
      "beds         0\n",
      "baths        0\n",
      "sq__ft       0\n",
      "type         0\n",
      "sale_date    0\n",
      "price        0\n",
      "latitude     0\n",
      "longitude    0\n",
      "dtype: int64\n"
     ]
    }
   ],
   "source": [
    "print(df.isnull().sum())"
   ]
  },
  {
   "cell_type": "code",
   "execution_count": 15,
   "metadata": {},
   "outputs": [
    {
     "name": "stdout",
     "output_type": "stream",
     "text": [
      "street        object\n",
      "city          object\n",
      "zip            int64\n",
      "state         object\n",
      "beds           int64\n",
      "baths          int64\n",
      "sq__ft         int64\n",
      "type          object\n",
      "sale_date     object\n",
      "price          int64\n",
      "latitude     float64\n",
      "longitude    float64\n",
      "dtype: object\n"
     ]
    }
   ],
   "source": [
    "print(df.dtypes)"
   ]
  },
  {
   "cell_type": "code",
   "execution_count": 48,
   "metadata": {},
   "outputs": [
    {
     "name": "stdout",
     "output_type": "stream",
     "text": [
      "Index(['zip', 'beds', 'baths', 'sq__ft', 'price', 'latitude', 'longitude',\n",
      "       'street_10 SEA FOAM CT', 'street_100 CHELSEA CT',\n",
      "       'street_100 CRYSTALWOOD CIR',\n",
      "       ...\n",
      "       'city_WILTON', 'type_Multi-Family', 'type_Residential', 'type_Unkown',\n",
      "       'sale_date_Mon May 19 00:00:00 EDT 2008',\n",
      "       'sale_date_Thu May 15 00:00:00 EDT 2008',\n",
      "       'sale_date_Tue May 20 00:00:00 EDT 2008',\n",
      "       'sale_date_Wed May 21 00:00:00 EDT 2008', 'predicted_price',\n",
      "       'residuals'],\n",
      "      dtype='object', length=1034)\n"
     ]
    }
   ],
   "source": [
    "\n",
    "\n",
    "print(df.columns)"
   ]
  },
  {
   "cell_type": "markdown",
   "metadata": {
    "id": "sIztKXN7Xd3u"
   },
   "source": [
    "### 2. Predict Price"
   ]
  },
  {
   "cell_type": "markdown",
   "metadata": {
    "id": "hzXJOP2_Xd3v"
   },
   "source": [
    "We are going to predict `price` from available information."
   ]
  },
  {
   "cell_type": "markdown",
   "metadata": {
    "id": "1CMJdXc3Xd3w"
   },
   "source": [
    "#### 2.1 What is the Target Variable? Why?"
   ]
  },
  {
   "cell_type": "code",
   "execution_count": 53,
   "metadata": {
    "id": "56yN89q2Xd3w"
   },
   "outputs": [
    {
     "name": "stdout",
     "output_type": "stream",
     "text": [
      "Target Variable: price\n"
     ]
    }
   ],
   "source": [
    "# ANSWER\n",
    "target_variable = 'price'\n",
    "print(f\"Target Variable: {target_variable}\")\n",
    "\n"
   ]
  },
  {
   "cell_type": "markdown",
   "metadata": {
    "id": "7qy-ZmGEXd3z"
   },
   "source": [
    "#### 2.2 List all possible variables which might be Predictor variable."
   ]
  },
  {
   "cell_type": "code",
   "execution_count": 23,
   "metadata": {
    "id": "nfAq28P_Xd30"
   },
   "outputs": [
    {
     "name": "stdout",
     "output_type": "stream",
     "text": [
      "Predictor Variables:\n",
      "zip\n",
      "beds\n",
      "baths\n",
      "sq__ft\n",
      "latitude\n",
      "longitude\n",
      "street_10 SEA FOAM CT\n",
      "street_100 CHELSEA CT\n",
      "street_100 CRYSTALWOOD CIR\n",
      "street_100 CRYSTALWOOD WAY\n",
      "street_100 REBECCA WAY\n",
      "street_100 TOURMALINE CIR\n",
      "street_10001 WOODCREEK OAKS BLVD Unit 1415\n",
      "street_10001 WOODCREEK OAKS BLVD Unit 815\n",
      "street_1001 RIO NORTE WAY\n",
      "street_1005 MORENO WAY\n",
      "street_10062 LINCOLN VILLAGE DR\n",
      "street_10085 ATKINS DR\n",
      "street_10104 ANNIE ST\n",
      "street_10105 MONTE VALLO CT\n",
      "street_10112 LAMBEAU CT\n",
      "street_10133 NEBBIOLO CT\n",
      "street_10158 CRAWFORD WAY\n",
      "street_1016 CONGRESS AVE\n",
      "street_10165 LOFTON WAY\n",
      "street_10245 LOS PALOS DR\n",
      "street_10254 JULIANA WAY\n",
      "street_1028 FALLON PLACE CT\n",
      "street_1032 SOUZA DR\n",
      "street_1033 PARK STREAM DR\n",
      "street_1035 MILLET WAY\n",
      "street_10372 VIA CINTA CT\n",
      "street_104 CATLIN CT\n",
      "street_1042 STARBROOK DR\n",
      "street_1044 GALSTON DR\n",
      "street_1050 FOXHALL WAY\n",
      "street_10542 SILVERWOOD WAY\n",
      "street_106 FARHAM DR\n",
      "street_10629 BASIE WAY\n",
      "street_1069 ACACIA AVE\n",
      "street_107 JARVIS CIR\n",
      "street_108 CRYSTALWOOD WAY\n",
      "street_1080 RIO NORTE WAY\n",
      "street_1092 MAUGHAM CT\n",
      "street_10949 SCOTSMAN WAY\n",
      "street_11 E ST\n",
      "street_110 COPPER LEAF WAY\n",
      "street_1102 CHESLEY LN\n",
      "street_1103 COMMONS DR\n",
      "street_1104 HILLSDALE LN\n",
      "street_1106 55TH ST\n",
      "street_1110 PINEDALE AVE\n",
      "street_1113 COMMONS DR\n",
      "street_1113 SANDWICK WAY\n",
      "street_11130 EEL RIVER CT\n",
      "street_11150 TRINITY RIVER DR Unit 114\n",
      "street_1121 CREEKSIDE WAY\n",
      "street_11215 SHARRMONT CT\n",
      "street_1122 WILD POPPY CT\n",
      "street_1124 PERKINS WAY\n",
      "street_11281 STANFORD COURT LN Unit 604\n",
      "street_113 LEEWILL AVE\n",
      "street_113 RINETTI WAY\n",
      "street_1139 CLINTON RD\n",
      "street_1140 EDMONTON DR\n",
      "street_1158 SAN IGNACIO WAY\n",
      "street_116 CRYSTALWOOD WAY\n",
      "street_1165 37TH ST\n",
      "street_117 EVCAR WAY\n",
      "street_1171 SONOMA AVE\n",
      "street_1178 WARMWOOD CT\n",
      "street_11817 OPAL RIDGE WAY\n",
      "street_11826 DIONYSUS WAY\n",
      "street_119 SAINT MARIE CIR\n",
      "street_12 COSTA BRASE CT\n",
      "street_120 GRANT LN\n",
      "street_1207 CRESCENDO DR\n",
      "street_12075 APPLESBURY CT\n",
      "street_1214 DAWNWOOD DR\n",
      "street_1219 G ST\n",
      "street_12209 CONSERVANCY WAY\n",
      "street_1223 LAMBERTON CIR\n",
      "street_12241 CANYONLANDS DR\n",
      "street_1230 SANDRA CIR\n",
      "street_1240 FAY CIR\n",
      "street_1251 GREEN RAVINE DR\n",
      "street_127 QUASAR CIR\n",
      "street_12901 FURLONG DR\n",
      "street_1300 F ST\n",
      "street_1312 RENISON LN\n",
      "street_1315 KONDOS AVE\n",
      "street_1316 I ST\n",
      "street_1322 SUTTER WALK\n",
      "street_1336 LAYSAN TEAL DR\n",
      "street_1347 HIDALGO CIR\n",
      "street_1356 HARTLEY WAY\n",
      "street_137 GUNNISON AVE\n",
      "street_14 ASHLEY OAKS CT\n",
      "street_14 CASA VATONI PL\n",
      "street_140 VENTO CT\n",
      "street_14004 WALNUT AVE\n",
      "street_1401 STERLING ST\n",
      "street_1407 TIFFANY CIR\n",
      "street_1409 47TH ST\n",
      "street_14151 INDIO DR\n",
      "street_1416 LOCKHART WAY\n",
      "street_1434 BELL AVE\n",
      "street_1440 EMERALD LN\n",
      "street_1455 64TH AVE\n",
      "street_1456 EAGLESFIELD LN\n",
      "street_1469 JANRICK AVE\n",
      "street_14788 NATCHEZ CT\n",
      "street_1484 RADCLIFFE WAY\n",
      "street_149 OPUS CIR\n",
      "street_15 CRYSTALWOOD CIR\n",
      "street_15 LOORZ CT\n",
      "street_15 VANESSA PL\n",
      "street_1500 ORANGE HILL LN\n",
      "street_1515 EL CAMINO VERDE DR\n",
      "street_1524 YOUNGS AVE\n",
      "street_1525 PENNSYLVANIA AVE\n",
      "street_1528 HESKET WAY\n",
      "street_1530 TOPANGA LN Unit 204\n",
      "street_15300 MURIETA SOUTH PKWY\n",
      "street_1536 STONEY CROSS LN\n",
      "street_1550 TOPANGA LN Unit 207\n",
      "street_1570 GLIDDEN AVE\n",
      "street_1571 WILD OAK LN\n",
      "street_16 BRONCO CREEK CT\n",
      "street_1620 BASLER ST\n",
      "street_1630 GLIDDEN AVE\n",
      "street_1636 ALLENWOOD CIR\n",
      "street_167 VALLEY OAK DR\n",
      "street_1675 VERNON ST Unit 24\n",
      "street_1675 VERNON ST Unit 8\n",
      "street_169 BAURER CIR\n",
      "street_1691 NOGALES ST\n",
      "street_1693 SHELTER COVE DR\n",
      "street_17 SERASPI CT\n",
      "street_170 LAGOMARSINO WAY\n",
      "street_170 PENHOW CIR\n",
      "street_1732 TUSCAN GROVE CIR\n",
      "street_1740 HIGH ST\n",
      "street_1786 PIEDMONT WAY\n",
      "street_1792 DAWNELLE WAY\n",
      "street_1792 DIAMOND WOODS CIR\n",
      "street_18 OLLIE CT\n",
      "street_1800 AVONDALE DR\n",
      "street_1813 AVENIDA MARTINA\n",
      "street_1828 2ND AVE\n",
      "street_1833 2ND AVE\n",
      "street_1838 CASTRO WAY\n",
      "street_1889 COLD SPRINGS RD\n",
      "street_1890 GENEVA PL\n",
      "street_19 CRYSTALWOOD CIR\n",
      "street_19 E ST\n",
      "street_1900 DANBROOK DR\n",
      "street_1909 YARNELL WAY\n",
      "street_191 BARNHART CIR\n",
      "street_1910 BONAVISTA WAY\n",
      "street_1941 EXPEDITION WAY\n",
      "street_1965 LAURELHURST LN\n",
      "street_1973 DANVERS WAY\n",
      "street_1975 SIDESADDLE WAY\n",
      "street_1986 DANVERS WAY\n",
      "street_20 CRYSTALWOOD CIR\n",
      "street_20 GROTH CIR\n",
      "street_200 ALLAIRE CIR\n",
      "street_200 CRADLE MOUNTAIN CT\n",
      "street_200 HILLSFORD CT\n",
      "street_200 OAKWILDE ST\n",
      "street_201 CARLO CT\n",
      "street_201 FIRESTONE DR\n",
      "street_201 KIRKLAND CT\n",
      "street_2010 PROMONTORY POINT LN\n",
      "street_2015 PROMONTORY POINT LN\n",
      "street_2028 ROBERT WAY\n",
      "street_203 CASCADE FALLS DR\n",
      "street_2049 EMPIRE MINE CIR\n",
      "street_2064 EXPEDITION WAY\n",
      "street_2065 IMPRESSIONIST WAY\n",
      "street_207 ORANGE BLOSSOM CIR Unit C\n",
      "street_2089 BECKETT DR\n",
      "street_2100 BEATTY WAY\n",
      "street_2103 BURBERRY WAY\n",
      "street_2109 HAMLET PL\n",
      "street_211 MCDANIEL CIR\n",
      "street_2113 FALL TRAIL CT\n",
      "street_2113 KIRK WAY\n",
      "street_2115 SMOKESTACK WAY\n",
      "street_212 CAPPUCINO WAY\n",
      "street_2121 HANNAH WAY\n",
      "street_2123 AMANDA WAY\n",
      "street_2125 22ND AVE\n",
      "street_2125 BIG SKY DR\n",
      "street_2130 CATHERWOOD WAY\n",
      "street_2148 RANCH VIEW DR\n",
      "street_2149 COTTAGE WAY\n",
      "street_2159 BECKETT DR\n",
      "street_2178 63RD AVE\n",
      "street_2181 WINTERHAVEN CIR\n",
      "street_220 OLD AIRPORT RD\n",
      "street_221 PICASSO CIR\n",
      "street_2216 DUNLAP DR\n",
      "street_2217 APPALOOSA CT\n",
      "street_2219 EL CANTO CIR\n",
      "street_2221 2ND AVE\n",
      "street_2231 COUNTRY VILLA CT\n",
      "street_2242 ABLE WAY\n",
      "street_2250 FOREBAY RD\n",
      "street_2251 LAMPLIGHT LN\n",
      "street_227 MAHAN CT Unit 1\n",
      "street_2274 IVY BRIDGE DR\n",
      "street_2277 BABETTE WAY\n",
      "street_2284 LOS ROBLES RD\n",
      "street_2298 PRIMROSE LN\n",
      "street_23 CRYSTALWOOD CIR\n",
      "street_230 BANKSIDE WAY\n",
      "street_230 CANDELA CIR\n",
      "street_2319 THORES ST\n",
      "street_2327 32ND ST\n",
      "street_2328 DOROTHY JUNE WAY\n",
      "street_2332 CAMBRIDGE ST\n",
      "street_2340 HURLEY WAY\n",
      "street_2341 BIG STRIKE TRL\n",
      "street_2361 LA LOMA DR\n",
      "street_2368 CRAIG AVE\n",
      "street_2370 BIG CANYON CREEK RD\n",
      "street_24 CRYSTALWOOD CIR\n",
      "street_24 WINDCHIME CT\n",
      "street_2400 COUNTRYSIDE DR\n",
      "street_2400 INVERNESS DR\n",
      "street_241 LANFRANCO CIR\n",
      "street_2421 BERRYWOOD DR\n",
      "street_2421 SANTINA WAY\n",
      "street_2422 STEFANIE DR\n",
      "street_2426 RASHAWN DR\n",
      "street_2442 LARKSPUR LN\n",
      "street_2450 SAN JOSE WAY\n",
      "street_2460 EL ROCCO WAY\n",
      "street_250 PERALTA AVE\n",
      "street_2505 RHINE WAY\n",
      "street_251 CHANGO CIR\n",
      "street_2513 OLD KENMARE RD\n",
      "street_2561 19TH AVE\n",
      "street_2561 VERNA WAY\n",
      "street_2566 SERENATA WAY\n",
      "street_26 JEANROSS CT\n",
      "street_26 KAMSON CT\n",
      "street_2601 SAN FERNANDO WAY\n",
      "street_261 REDONDO AVE\n",
      "street_2610 PHYLLIS AVE\n",
      "street_2617 BASS CT\n",
      "street_2621 EVERGREEN ST\n",
      "street_2622 ERIN DR\n",
      "street_2636 TRONERO WAY\n",
      "street_2674 TAM O SHANTER DR\n",
      "street_2678 BRIARTON DR\n",
      "street_27 CRYSTALWOOD CIR\n",
      "street_27 E ST\n",
      "street_27 MEGAN CT\n",
      "street_2733 DANA LOOP\n",
      "street_2733 YUMA CT\n",
      "street_2743 DEAKIN PL\n",
      "street_2778 KAWEAH CT\n",
      "street_2796 BRANCH ST\n",
      "street_28 CRYSTALWOOD CIR\n",
      "street_2802 BLACK OAK DR\n",
      "street_2805 JANETTE WAY\n",
      "street_2809 LOON CT\n",
      "street_281 SPYGLASS HL\n",
      "street_2818 KNOLLWOOD DR\n",
      "street_2820 DEL PASO BLVD\n",
      "street_2847 BELGRADE WAY\n",
      "street_2848 PROVO WAY\n",
      "street_2866 KARITSA AVE\n",
      "street_2880 CANDIDO DR\n",
      "street_2887 AZEVEDO DR\n",
      "street_29 COOL FOUNTAIN CT\n",
      "street_2900 BLAIR RD\n",
      "street_2901 PINTAIL WAY\n",
      "street_2909 SHAWN WAY\n",
      "street_2912 NORCADE CIR\n",
      "street_2915 HOLDREGE WAY\n",
      "street_2916 BABSON DR\n",
      "street_2930 LA ROSA RD\n",
      "street_2931 HOWE AVE\n",
      "street_294 SPARROW DR\n",
      "street_2945 RED HAWK WAY\n",
      "street_2949 PANAMA AVE\n",
      "street_2956 DAVENPORT WAY\n",
      "street_2981 WRINGER DR\n",
      "street_2982 ABERDEEN LN\n",
      "street_2987 DIORITE WAY\n",
      "street_2987 PONDEROSA LN\n",
      "street_3 CRYSTALWOOD CIR\n",
      "street_3 E ST\n",
      "street_301 OLIVADI WAY\n",
      "street_3012 SPOONWOOD WAY\n",
      "street_3013 BRIDLEWOOD DR\n",
      "street_3020 RICHARDSON CIR\n",
      "street_3025 EL PRADO WAY\n",
      "street_3027 PALMATE WAY\n",
      "street_3035 BRUNNET LN\n",
      "street_3035 ESTEPA DR Unit 5C\n",
      "street_3040 PARKHAM DR\n",
      "street_306 CAMELLIA WAY\n",
      "street_3072 VILLAGE PLAZA DR\n",
      "street_308 ATKINSON ST\n",
      "street_31 CRYSTALWOOD CIR\n",
      "street_310 GROTH CIR\n",
      "street_3100 EXPLORER DR\n",
      "street_3104 CLAY ST\n",
      "street_3108 DELWOOD WAY\n",
      "street_3118 42ND ST\n",
      "street_312 RIVER ISLE WAY\n",
      "street_3128 VIA GRANDE\n",
      "street_3132 CLAY ST\n",
      "street_3139 SPOONWOOD WAY Unit 1\n",
      "street_315 JUMEL CT\n",
      "street_3150 ROSEMONT DR\n",
      "street_3174 NORTHVIEW DR\n",
      "street_318 ANACAPA DR\n",
      "street_32 CRYSTALWOOD CIR\n",
      "street_320 GROTH CIR\n",
      "street_3212 CORNICHE LN\n",
      "street_3224 PARKHAM DR\n",
      "street_3228 BAGGAN CT\n",
      "street_3228 I ST\n",
      "street_3230 SMATHERS WAY\n",
      "street_3232 PARKHAM DR\n",
      "street_3240 S ST\n",
      "street_3253 ABOTO WAY\n",
      "street_3301 PARK DR Unit 1914\n",
      "street_3305 RIO ROCA CT\n",
      "street_3318 DAVIDSON DR\n",
      "street_332 PALIN AVE\n",
      "street_3328 22ND AVE\n",
      "street_3330 VILLAGE CT\n",
      "street_3348 40TH ST\n",
      "street_3348 RIO LINDA BLVD\n",
      "street_3349 CORVINA DR\n",
      "street_3361 ALDER CANYON WAY\n",
      "street_3361 BOW MAR CT\n",
      "street_3372 BERETANIA WAY\n",
      "street_3409 VIRGO ST\n",
      "street_3425 MEADOW WAY\n",
      "street_3427 LA CADENA WAY\n",
      "street_3429 FERNBROOK CT\n",
      "street_3432 Y ST\n",
      "street_3450 WHITNOR CT\n",
      "street_35 CRYSTALWOOD CIR\n",
      "street_35 E ST\n",
      "street_3503 21ST AVE\n",
      "street_3512 RAINSONG CIR\n",
      "street_3522 22ND AVE\n",
      "street_3526 HIGH ST\n",
      "street_3528 SAINT GEORGE DR\n",
      "street_3529 FABERGE WAY\n",
      "street_3536 SUN MAIDEN WAY\n",
      "street_3557 SODA WAY\n",
      "street_3569 SODA WAY\n",
      "street_3578 LOGGERHEAD WAY\n",
      "street_36 CRYSTALWOOD CIR\n",
      "street_3604 KODIAK WAY\n",
      "street_361 MAHONIA CIR\n",
      "street_3621 WINTUN DR\n",
      "street_3622 CURTIS DR\n",
      "street_3624 20TH AVE\n",
      "street_3660 22ND AVE\n",
      "street_3662 RIVER DR\n",
      "street_3692 PAYNE WAY\n",
      "street_37 WHITE BIRCH CT\n",
      "street_3715 DIDCOT CIR\n",
      "street_3715 TALLYHO DR Unit 78HIGH\n",
      "street_3720 VISTA DE MADERA\n",
      "street_3725 DON JULIO BLVD\n",
      "street_3726 JONKO AVE\n",
      "street_3729 BAINBRIDGE DR\n",
      "street_3732 LANKERSHIM WAY\n",
      "street_374 1ST ST\n",
      "street_3800 LYNHURST WAY\n",
      "street_3801 WILDROSE WAY\n",
      "street_3812 BELDEN ST\n",
      "street_3812 CYPRESS ST\n",
      "street_3820 NATOMA WAY\n",
      "street_3828 BLACKFOOT WAY\n",
      "street_3845 ELM ST\n",
      "street_3847 LAS PASAS WAY\n",
      "street_386 1ST ST\n",
      "street_3863 LAS PASAS WAY\n",
      "street_3882 YELLOWSTONE LN\n",
      "street_39 CRYSTALWOOD CIR\n",
      "street_3908 17TH AVE\n",
      "street_391 NATALINO CIR\n",
      "street_3920 39TH ST\n",
      "street_3920 SHINING STAR DR\n",
      "street_3924 HIGH ST\n",
      "street_3930 ANNABELLE AVE\n",
      "street_3935 EL MONTE DR\n",
      "street_3935 LIMESTONE WAY\n",
      "street_3949 WILDROSE WAY\n",
      "street_3975 SHINING STAR DR\n",
      "street_398 1ST ST\n",
      "street_398 LINDLEY DR\n",
      "street_40 CRYSTALWOOD CIR\n",
      "street_4004 CRESTA WAY\n",
      "street_4008 GREY LIVERY WAY\n",
      "street_4010 ALEX LN\n",
      "street_4030 BROADWAY\n",
      "street_404 6TH ST\n",
      "street_405 MARLIN SPIKE WAY\n",
      "street_4055 DEERBROOK DR\n",
      "street_4070 REDONDO DR\n",
      "street_4071 EVALITA WAY\n",
      "street_4073 TRESLER AVE\n",
      "street_408 KIRKWOOD CT\n",
      "street_4085 COUNTRY DR\n",
      "street_4085 FAWN CIR\n",
      "street_4100 BOTHWELL CIR\n",
      "street_4108 NORTON WAY\n",
      "street_411 ILLSLEY WAY\n",
      "street_4113 DAYSTAR CT\n",
      "street_4114 35TH AVE\n",
      "street_4128 HILL ST\n",
      "street_4143 SEA MEADOW WAY\n",
      "street_416 LEITCH AVE\n",
      "street_4165 BRISBANE CIR\n",
      "street_4180 12TH AVE\n",
      "street_4186 TULIP PARK WAY\n",
      "street_419 DAWNRIDGE RD\n",
      "street_4200 COMMERCE WAY Unit 711\n",
      "street_4204 LUSK DR\n",
      "street_4207 PAINTER WAY\n",
      "street_4225 46TH AVE\n",
      "street_4232 71ST ST\n",
      "street_4236 ADRIATIC SEA WAY\n",
      "street_4236 NATOMAS CENTRAL DR\n",
      "street_4240 WINJE DR\n",
      "street_4243 MIDDLEBURY WAY\n",
      "street_4250 ARDWELL WAY\n",
      "street_427 21ST ST\n",
      "street_4288 DYMIC WAY\n",
      "street_4290 BLACKFORD WAY\n",
      "street_43 CRYSTALWOOD CIR\n",
      "street_43 E ST\n",
      "street_4320 FOUR SEASONS RD\n",
      "street_434 1ST ST\n",
      "street_435 EXCHANGE ST\n",
      "street_4351 TURNBRIDGE DR\n",
      "street_4359 CREGAN CT\n",
      "street_44 CRYSTALWOOD CIR\n",
      "street_441 ARLINGDALE CIR\n",
      "street_4419 79TH ST\n",
      "street_4431 GREEN TREE DR\n",
      "street_4437 MITCHUM CT\n",
      "street_4440 SYCAMORE AVE\n",
      "street_4478 GREENBRAE RD\n",
      "street_448 ELMWOOD CT\n",
      "street_4480 VALLEY HI DR\n",
      "street_4487 PANORAMA DR\n",
      "street_4500 TIPPWOOD WAY\n",
      "street_4508 OLD DAIRY DR\n",
      "street_4509 WINJE DR\n",
      "street_4513 GREENHOLME DR\n",
      "street_4517 OLYMPIAD WAY\n",
      "street_4520 BOMARK WAY\n",
      "street_4524 LOCH HAVEN WAY\n",
      "street_4533 LOCH HAVEN WAY\n",
      "street_4620 BROMWICH CT\n",
      "street_4620 CHAMBERLIN CIR\n",
      "street_4620 WELERA WAY\n",
      "street_4621 COUNTRY SCENE WAY\n",
      "street_4622 MEYER WAY\n",
      "street_4629 DORCHESTER LN\n",
      "street_4631 11TH AVE\n",
      "street_4636 TEAL BAY CT\n",
      "street_4649 FREEWAY CIR\n",
      "street_4660 CEDARWOOD WAY\n",
      "street_47 CRYSTALWOOD CIR\n",
      "street_47 NAPONEE CT\n",
      "street_4709 AMBER LN Unit 1\n",
      "street_4712 PISMO BEACH DR\n",
      "street_4727 SAVOIE WAY\n",
      "street_4734 14TH AVE\n",
      "street_4734 GIBBONS DR\n",
      "street_4738 OAKHOLLOW DR\n",
      "street_4741 PACIFIC PARK DR\n",
      "street_4748 SALEM WAY\n",
      "street_48 CRYSTALWOOD CIR\n",
      "street_4800 MAPLEPLAIN AVE\n",
      "street_4800 WESTLAKE PKWY Unit 2109\n",
      "street_4800 WESTLAKE PKWY Unit 410\n",
      "street_4803 MCCLOUD DR\n",
      "street_4804 NORIKER DR\n",
      "street_4818 BRITTNEY LEE CT\n",
      "street_4821 HUTSON WAY\n",
      "street_483 ARCADE BLVD\n",
      "street_4841 VILLAGE GREEN DR\n",
      "street_4844 CLYDEBANK WAY\n",
      "street_4854 TANGERINE AVE\n",
      "street_4867 LAGUNA DR\n",
      "street_4882 BANDALIN WAY\n",
      "street_4885 SUMMIT VIEW DR\n",
      "street_4899 WIND CREEK DR\n",
      "street_4900 71ST ST\n",
      "street_4900 ELUDE CT\n",
      "street_4901 MILLNER WAY\n",
      "street_4904 J PKWY\n",
      "street_4909 RUGER CT\n",
      "street_4925 PERCHERON DR\n",
      "street_4966 CHARTER RD\n",
      "street_5 BISHOPGATE CT\n",
      "street_500 WINCHESTER CT\n",
      "street_501 POPLAR AVE\n",
      "street_5024 CHAMBERLIN CIR\n",
      "street_5028 14TH AVE\n",
      "street_5031 CORVAIR ST\n",
      "street_5037 J PKWY\n",
      "street_5050 RHODE ISLAND DR Unit 4\n",
      "street_506 BEDFORD CT\n",
      "street_508 SAMUEL WAY\n",
      "street_509 CASTILLIAN CT\n",
      "street_51 AIKEN WAY\n",
      "street_51 ANJOU CIR\n",
      "street_51 CRYSTALWOOD CIR\n",
      "street_51 E ST\n",
      "street_51 OMAHA CT\n",
      "street_5102 ARCHCREST WAY\n",
      "street_5118 ROBANDER ST\n",
      "street_5136 CABOT CIR\n",
      "street_52 CRYSTALWOOD CIR\n",
      "street_5201 BLOSSOM RANCH DR\n",
      "street_5201 LAGUNA OAKS DR Unit 126\n",
      "street_5201 LAGUNA OAKS DR Unit 140\n",
      "street_5201 LAGUNA OAKS DR Unit 162\n",
      "street_5201 LAGUNA OAKS DR Unit 172\n",
      "street_5201 LAGUNA OAKS DR Unit 199\n",
      "street_5209 LAGUNA CREST WAY\n",
      "street_5217 ARGO WAY\n",
      "street_5221 38TH AVE\n",
      "street_5222 COPPER SUNSET WAY\n",
      "street_523 EXCHANGE ST\n",
      "street_5303 JERRETT WAY\n",
      "street_5307 CABRILLO WAY\n",
      "street_5308 MARBURY WAY\n",
      "street_5312 MARBURY WAY\n",
      "street_5321 DELTA DR\n",
      "street_5322 WHITE LOTUS WAY\n",
      "street_5332 SANDSTONE ST\n",
      "street_5333 PRIMROSE DR Unit 19A\n",
      "street_5337 DUSTY ROSE WAY\n",
      "street_5340 BIRK WAY\n",
      "street_5342 CALABRIA WAY\n",
      "street_5380 VILLAGE WOOD DR\n",
      "street_540 HARLING CT\n",
      "street_540 MORRISON AVE\n",
      "street_5404 ALMOND FALLS WAY\n",
      "street_5405 NECTAR CIR\n",
      "street_5411 10TH AVE\n",
      "street_5413 BUENA VENTURA WAY\n",
      "street_5419 HAVENHURST CIR\n",
      "street_5420 ALMOND FALLS WAY\n",
      "street_5429 HESPER WAY\n",
      "street_5448 MAIDSTONE WAY\n",
      "street_5479 NICKMAN WAY\n",
      "street_55 CRYSTALWOOD CIR\n",
      "street_550 DEL VERDE CIR\n",
      "street_5501 VALLETTA WAY\n",
      "street_5509 LAGUNA CREST WAY\n",
      "street_5529 LAGUNA PARK DR\n",
      "street_5531 JANSEN DR\n",
      "street_5532 ENGLE RD\n",
      "street_5544 CAMAS CT\n",
      "street_5559 NORTHBOROUGH DR\n",
      "street_556 PLATT CIR\n",
      "street_5579 JERRY LITELL WAY\n",
      "street_5601 REXLEIGH DR\n",
      "street_5601 SPINDRIFT LN\n",
      "street_5608 ROSEDALE WAY\n",
      "street_5615 LUPIN LN\n",
      "street_5624 MEMORY LN\n",
      "street_5625 JAMES WAY\n",
      "street_5628 GEORGIA DR\n",
      "street_5635 FOXVIEW WAY\n",
      "street_5635 LOS PUEBLOS WAY\n",
      "street_5636 25TH ST\n",
      "street_5651 OVERLEAF WAY\n",
      "street_5672 HILLSDALE BLVD\n",
      "street_5706 GREENACRES WAY\n",
      "street_5708 RIDGEPOINT DR\n",
      "street_5709 RIVER OAK WAY\n",
      "street_5712 MELBURY CIR\n",
      "street_5725 BALFOR RD\n",
      "street_5733 ANGELINA AVE\n",
      "street_5746 GELSTON WAY\n",
      "street_5747 KING RD\n",
      "street_5754 WALERGA RD Unit 4\n",
      "street_5776 TERRACE DR\n",
      "street_580 REGENCY PARK CIR\n",
      "street_5805 DOTMAR WAY\n",
      "street_5805 HIMALAYA WAY\n",
      "street_5821 64TH ST\n",
      "street_5828 PEPPERMILL CT\n",
      "street_5840 WALERGA RD\n",
      "street_5841 VALLEY VALE WAY\n",
      "street_5847 DEL CAMPO LN\n",
      "street_5890 TT TRAK\n",
      "street_59 E ST\n",
      "street_5907 ELLERSLEE DR\n",
      "street_5908 MCLEAN DR\n",
      "street_5912 DEEPDALE WAY\n",
      "street_5920 VALLEY GLEN WAY\n",
      "street_5924 TANUS CIR\n",
      "street_5925 MALEVILLE AVE\n",
      "street_5937 BAMFORD DR\n",
      "street_5937 YORK GLEN WAY\n",
      "street_5938 WOODBRIAR WAY\n",
      "street_5954 BRIDGECROSS DR\n",
      "street_5954 TANUS CIR\n",
      "street_5976 KYLENCH CT\n",
      "street_5980 79TH ST\n",
      "street_5993 SAWYER CIR\n",
      "street_6000 BIRCHGLADE WAY\n",
      "street_6001 MCMAHON DR\n",
      "street_6001 SHOO FLY RD\n",
      "street_6007 MARYBELLE LN\n",
      "street_601 REGGINALD WAY\n",
      "street_6013 ROWAN WAY\n",
      "street_6019 CHESHIRE WAY\n",
      "street_6030 PALERMO WAY\n",
      "street_604 MORRISON AVE\n",
      "street_604 P ST\n",
      "street_6045 EHRHARDT AVE\n",
      "street_6048 OGDEN NASH WAY\n",
      "street_6049 HAMBURG WAY\n",
      "street_6063 LAND PARK DR\n",
      "street_6080 BRIDGECROSS DR\n",
      "street_611 BLOSSOM ROCK LN\n",
      "street_6112 HERMOSA ST\n",
      "street_6118 STONEHAND AVE\n",
      "street_612 STONE BLVD\n",
      "street_6121 ALPINESPRING WAY\n",
      "street_6121 WILD FOX CT\n",
      "street_6128 CARL SANDBURG CIR\n",
      "street_6139 HERMOSA ST\n",
      "street_617 M ST\n",
      "street_617 WILLOW CREEK DR\n",
      "street_6196 EDGEHILL DR\n",
      "street_62 DE FER CIR\n",
      "street_620 KESWICK CT\n",
      "street_6208 GRATTAN WAY\n",
      "street_6217 LEOLA WAY\n",
      "street_6220 OPUS CT\n",
      "street_6221 GREEN TOP WAY\n",
      "street_6222 CALLE MONTALVO CIR\n",
      "street_6232 GUS WAY\n",
      "street_6236 LONGFORD DR Unit 1\n",
      "street_624 HOVEY WAY\n",
      "street_6272 LONGFORD DR Unit 1\n",
      "street_6286 LONETREE BLVD\n",
      "street_6288 LONETREE BLVD\n",
      "street_63 ANGEL ISLAND CIR\n",
      "street_63 CRYSTALWOOD CIR\n",
      "street_6306 CONEJO\n",
      "street_6313 CASTRO VERDE WAY\n",
      "street_6318 39TH AVE\n",
      "street_632 NEWBRIDGE LN\n",
      "street_6320 EL DORADO ST\n",
      "street_6326 APPIAN WAY\n",
      "street_633 HANISCH DR\n",
      "street_6344 BONHAM CIR\n",
      "street_6344 LAGUNA MIRAGE LN\n",
      "street_636 CRESTVIEW DR\n",
      "street_6401 MARSHALL RD\n",
      "street_6411 RED BIRCH WAY\n",
      "street_6417 SUNNYFIELD WAY\n",
      "street_645 MORRISON AVE\n",
      "street_648 SANTA ANA AVE\n",
      "street_6485 LAGUNA MIRAGE LN\n",
      "street_6503 RIO DE ONAR WAY\n",
      "street_6507 RIO DE ONAR WAY\n",
      "street_6513 HOLIDAY WAY\n",
      "street_6517 DONEGAL DR\n",
      "street_652 FIFTEEN MILE DR\n",
      "street_6548 GRAYLOCK LN\n",
      "street_6561 WEATHERFORD WAY\n",
      "street_6600 SILVERTHORNE CIR\n",
      "street_6601 WOODMORE OAKS DR\n",
      "street_6613 NAVION DR\n",
      "street_6622 WILLOWLEAF DR\n",
      "street_6631 DEMARET DR\n",
      "street_6632 IBEX WOODS CT\n",
      "street_6671 FOXWOOD CT\n",
      "street_6708 PONTA DO SOL WAY\n",
      "street_6709 ROSE BRIDGE DR\n",
      "street_671 SONOMA AVE\n",
      "street_6715 6TH ST\n",
      "street_6716 TAREYTON WAY\n",
      "street_6743 21ST ST\n",
      "street_6768 MEDORA DR\n",
      "street_68 CRYSTALWOOD CIR\n",
      "street_6801 RAWLEY WAY\n",
      "street_6813 SCOTER WAY\n",
      "street_6824 OLIVE TREE WAY\n",
      "street_6850 21ST ST\n",
      "street_6900 LONICERA DR\n",
      "street_6905 COBALT WAY\n",
      "street_6905 FRANKFORT CT\n",
      "street_6908 PIN OAK CT\n",
      "street_6913 RICHEVE WAY\n",
      "street_6920 GILLINGHAM WAY\n",
      "street_6930 HAMPTON COVE WAY\n",
      "street_6932 RUSKUT WAY\n",
      "street_6935 ELM TREE LN\n",
      "street_6943 WOLFGRAM WAY\n",
      "street_6945 RIO TEJO WAY\n",
      "street_6948 MIRADOR WAY\n",
      "street_7 ARCHIBALD CT\n",
      "street_7 CRYSTALWOOD CIR\n",
      "street_700 HUNTER PL\n",
      "street_7004 RAWLEY WAY\n",
      "street_7005 TIANT WAY\n",
      "street_701 JESSIE AVE\n",
      "street_7015 WOODSIDE DR\n",
      "street_7031 CANEVALLEY CIR\n",
      "street_7032 FAIR OAKS BLVD\n",
      "street_7043 9TH AVE\n",
      "street_7044 CARTHY WAY\n",
      "street_7045 PEEVEY CT\n",
      "street_709 CIMMARON CT\n",
      "street_7105 DANBERG WAY\n",
      "street_7108 HEATHER TREE DR\n",
      "street_7109 CHANDLER DR\n",
      "street_7110 STELLA LN Unit 15\n",
      "street_7129 SPRINGMONT DR\n",
      "street_7140 BLUE SPRINGS WAY\n",
      "street_719 BAYWOOD CT\n",
      "street_72 CRYSTALWOOD CIR\n",
      "street_7204 KERSTEN ST\n",
      "street_7204 THOMAS DR\n",
      "street_7213 CALVIN DR\n",
      "street_7223 KALLIE KAY LN\n",
      "street_7226 LARCHMONT DR\n",
      "street_7252 CARRIAGE DR\n",
      "street_7315 KOALA CT\n",
      "street_7320 6TH ST\n",
      "street_7325 10TH ST\n",
      "street_7328 SPRINGMAN ST\n",
      "street_7340 HAMDEN PL\n",
      "street_7342 DAVE ST\n",
      "street_7342 GIGI PL\n",
      "street_7344 BUTTERBALL WAY\n",
      "street_7349 FLETCHER FARM DR\n",
      "street_7351 GIGI PL\n",
      "street_7374 TISDALE WAY\n",
      "street_7381 WASHBURN WAY\n",
      "street_739 E WOODSIDE LN Unit E\n",
      "street_7401 TOULON LN\n",
      "street_7409 VOYAGER WAY\n",
      "street_7420 ALIX PKWY\n",
      "street_7423 WILSALL CT\n",
      "street_7458 WINKLEY WAY\n",
      "street_746 MOOSE CREEK WAY\n",
      "street_7461 WINDBRIDGE DR\n",
      "street_75 E ST\n",
      "street_7511 OAKVALE CT\n",
      "street_7517 50TH AVE\n",
      "street_7535 ALMA VISTA WAY\n",
      "street_7540 HICKORY AVE\n",
      "street_7541 SKELTON WAY\n",
      "street_7577 EDDYLEE WAY\n",
      "street_76 CRYSTALWOOD CIR\n",
      "street_7607 ELDER CREEK RD\n",
      "street_7620 DARLA WAY\n",
      "street_7624 BOGEY CT\n",
      "street_7629 BETH ST\n",
      "street_7641 ROSEHALL DR\n",
      "street_7661 NIXOS WAY\n",
      "street_7687 HOWERTON DR\n",
      "street_7697 ROSEHALL DR\n",
      "street_77 RINETTI WAY\n",
      "street_7709 RIVER VILLAGE DR\n",
      "street_7713 HARVEST WOODS DR\n",
      "street_7730 ROBINETTE RD\n",
      "street_7731 MASTERS ST\n",
      "street_7740 DIXIE LOU ST\n",
      "street_7741 MILLDALE CIR\n",
      "street_7744 SOUTHBREEZE DR\n",
      "street_7756 TIGERWOODS DR\n",
      "street_7800 TABARE CT\n",
      "street_7809 VALLECITOS WAY\n",
      "street_7812 HARTWICK WAY\n",
      "street_7825 CREEK VALLEY CIR\n",
      "street_7825 DALEWOODS WAY\n",
      "street_7836 ORCHARD WOODS CIR\n",
      "street_7837 ABBINGTON WAY\n",
      "street_7842 LAHONTAN CT\n",
      "street_7849 BONNY DOWNS WAY\n",
      "street_7863 CRESTLEIGH CT\n",
      "street_7876 BURLINGTON WAY\n",
      "street_7895 CABER WAY\n",
      "street_7901 GAZELLE TRAIL WAY\n",
      "street_7921 DOE TRAIL WAY\n",
      "street_7922 MANSELL WAY\n",
      "street_7928 36TH AVE\n",
      "street_7933 DAFFODIL WAY\n",
      "street_7944 DOMINION WAY\n",
      "street_7944 SYLVAN OAK WAY\n",
      "street_7957 VALLEY GREEN DR\n",
      "street_7958 ROSEVIEW WAY\n",
      "street_796 BUTTERCUP CIR\n",
      "street_8 LA ROCAS CT\n",
      "street_8 RIVER RAFT CT\n",
      "street_8 TIDE CT\n",
      "street_80 CRYSTALWOOD CIR\n",
      "street_8001 ARROYO VISTA DR\n",
      "street_8001 HARTWICK WAY\n",
      "street_8008 SAINT HELENA CT\n",
      "street_8020 WALERGA RD\n",
      "street_8025 ARROYO VISTA DR\n",
      "street_8025 PEERLESS AVE\n",
      "street_8032 DUSENBERG CT\n",
      "street_8082 LINDA ISLE LN\n",
      "street_8101 LEMON COVE CT\n",
      "street_8101 PORT ROYALE WAY\n",
      "street_8108 FILIFERA WAY\n",
      "street_8116 COTTONMILL CIR\n",
      "street_815 CROSSWIND DR\n",
      "street_8151 QUAIL RIDGE CT\n",
      "street_8156 STEINBECK WAY\n",
      "street_8164 CHENIN BLANC LN\n",
      "street_8165 AYN RAND CT\n",
      "street_8167 DERBY PARK CT\n",
      "street_8198 STEVENSON AVE\n",
      "street_82 WILDFLOWER DR\n",
      "street_820 DANA CT\n",
      "street_8200 STEINBECK WAY\n",
      "street_8205 WEYBURN CT\n",
      "street_8207 YORKTON WAY\n",
      "street_8208 WOODYARD WAY\n",
      "street_8209 RIVALLO WAY\n",
      "street_8215 PEREGRINE WAY\n",
      "street_8217 PLUMERIA AVE\n",
      "street_8219 GWINHURST CIR\n",
      "street_8225 SCOTTSDALE DR\n",
      "street_8244 SUNBIRD WAY\n",
      "street_8248 CENTER PKWY\n",
      "street_8253 KEEGAN WAY\n",
      "street_8284 RED FOX WAY\n",
      "street_8299 HALBRITE WAY\n",
      "street_83 ARCADE BLVD\n",
      "street_8300 LICHEN DR\n",
      "street_8304 JUGLANS DR\n",
      "street_8304 RED FOX WAY\n",
      "street_8306 CURLEW CT\n",
      "street_8316 NORTHAM DR\n",
      "street_8317 SUNNY CREEK WAY\n",
      "street_8321 MISTLETOE WAY\n",
      "street_8323 REDBANK WAY\n",
      "street_8344 FIELDPOPPY CIR\n",
      "street_8345 STAR THISTLE WAY\n",
      "street_8354 SUNRISE WOODS WAY\n",
      "street_8363 LANGTREE WAY\n",
      "street_8369 FOPPIANO WAY\n",
      "street_8373 BLACKMAN WAY\n",
      "street_84 CRYSTALWOOD CIR\n",
      "street_840 TRANQUIL LN\n",
      "street_8421 SUNBLAZE WAY\n",
      "street_8424 MERRY HILL WAY\n",
      "street_8428 MISTY PASS WAY\n",
      "street_8432 BRIGGS DR\n",
      "street_8442 KEUSMAN ST\n",
      "street_8445 OLD AUBURN RD\n",
      "street_8463 TERRACOTTA CT\n",
      "street_8491 CRYSTAL WALK CIR\n",
      "street_8495 DARTFORD DR\n",
      "street_8515 DARTFORD DR\n",
      "street_8531 HERMITAGE WAY\n",
      "street_8570 SHERATON DR\n",
      "street_8593 DERLIN WAY\n",
      "street_8612 WILLOW GROVE WAY\n",
      "street_8616 ROCKPORTE CT\n",
      "street_8629 VIA ALTA WAY\n",
      "street_8632 PRAIRIEWOODS DR\n",
      "street_8636 LONGSPUR WAY\n",
      "street_8636 TEGEA WAY\n",
      "street_8637 PERIWINKLE CIR\n",
      "street_865 CONRAD CT\n",
      "street_8652 BANTON CIR\n",
      "street_8664 MAGNOLIA HILL WAY\n",
      "street_8671 SUMMER SUN WAY\n",
      "street_868 HILDEBRAND CIR\n",
      "street_87 LACAM CIR\n",
      "street_8708 MESA BROOK WAY\n",
      "street_8716 LONGSPUR WAY\n",
      "street_8718 ELK WAY\n",
      "street_8721 SPRUCE RIDGE WAY\n",
      "street_8728 CRYSTAL RIVER WAY\n",
      "street_8758 LEMAS RD\n",
      "street_8788 LA MARGARITA WAY\n",
      "street_8789 SEQUOIA WOOD CT\n",
      "street_88 CRYSTALWOOD CIR\n",
      "street_8806 PHOENIX AVE\n",
      "street_8817 SAWTELLE WAY\n",
      "street_8830 ADUR RD\n",
      "street_8864 REMBRANT CT\n",
      "street_8879 APPLE PEAR CT\n",
      "street_8882 AUTUMN GOLD CT\n",
      "street_8884 AMBERJACK WAY\n",
      "street_8907 GEMWOOD WAY\n",
      "street_8909 BILLFISH WAY\n",
      "street_8916 GABLES MILL PL\n",
      "street_8920 ROSETTA CIR\n",
      "street_8929 SUTTERS GOLD DR\n",
      "street_8935 MOUNTAIN HOME CT\n",
      "street_8952 ROCKY CREEK CT\n",
      "street_8986 HAFLINGER WAY\n",
      "street_9 PASTURE CT\n",
      "street_9 WIND CT\n",
      "street_9012 KIEFER BLVD\n",
      "street_9013 CASALS ST\n",
      "street_9020 LUKEN CT\n",
      "street_9021 MADISON AVE\n",
      "street_9048 PINTO CANYON WAY\n",
      "street_9054 DESCENDANT DR\n",
      "street_9058 MONTOYA ST\n",
      "street_907 RIO ROBLES AVE\n",
      "street_9080 BEDROCK CT\n",
      "street_9080 FRESCA WAY\n",
      "street_909 SINGINGWOOD RD\n",
      "street_9127 NEWHALL DR Unit 34\n",
      "street_913 COBDEN CT\n",
      "street_9169 GARLINGTON CT\n",
      "street_9176 SAGE GLEN WAY\n",
      "street_9182 LAKEMONT DR\n",
      "street_9185 CERROLINDA CIR\n",
      "street_9186 KINBRACE CT\n",
      "street_9197 CORTINA CIR\n",
      "street_92 CRYSTALWOOD CIR\n",
      "street_9204 TROUT WAY\n",
      "street_923 FULTON AVE\n",
      "street_9247 DELAIR WAY\n",
      "street_925 COBDEN CT\n",
      "street_9254 HARROGATE WAY\n",
      "street_9257 CALDERA WAY\n",
      "street_9264 BOULDER RIVER WAY\n",
      "street_9273 PREMIER WAY\n",
      "street_9278 DAIRY CT\n",
      "street_9297 TROUT WAY\n",
      "street_9346 AIZENBERG CIR\n",
      "street_9355 MATADOR WAY\n",
      "street_9360 MAGOS RD\n",
      "street_9361 WADDELL LN\n",
      "street_9387 GRANITE FALLS CT\n",
      "street_9401 BARREL RACER CT\n",
      "street_9417 SARA ST\n",
      "street_9452 RED SPRUCE WAY\n",
      "street_9455 SEA CLIFF WAY\n",
      "street_9474 VILLAGE TREE DR\n",
      "street_9488 OAK VILLAGE WAY\n",
      "street_9507 SEA CLIFF WAY\n",
      "street_9512 EMERALD PARK DR Unit 3\n",
      "street_9516 LAGUNA LAKE WAY\n",
      "street_955 BIG SUR CT\n",
      "street_9552 SUNLIGHT LN\n",
      "street_9570 HARVEST ROSE WAY\n",
      "street_96 CRYSTALWOOD CIR\n",
      "street_9605 GOLF COURSE LN\n",
      "street_9629 CEDAR OAK WAY\n",
      "street_9677 PILLITERI CT\n",
      "street_9688 NATURE TRAIL WAY\n",
      "street_97 KENNELFORD CIR\n",
      "street_9720 LITTLE HARBOR WAY\n",
      "street_9723 TERRAPIN CT\n",
      "street_9741 SADDLEBRED CT\n",
      "street_9760 LAZULITE CT\n",
      "street_9815 PASO FINO WAY\n",
      "street_9837 CORTE DORADO CT\n",
      "street_9861 CULP WAY\n",
      "street_9880 IZILDA CT\n",
      "street_993 MANTON CT\n",
      "street_9937 BURLINE ST\n",
      "street_9949 NESTLING CIR\n",
      "street_9967 HATHERTON WAY\n",
      "street_9970 STATE HIGHWAY 193\n",
      "city_AUBURN\n",
      "city_CAMERON PARK\n",
      "city_CARMICHAEL\n",
      "city_CITRUS HEIGHTS\n",
      "city_COOL\n",
      "city_DIAMOND SPRINGS\n",
      "city_EL DORADO\n",
      "city_EL DORADO HILLS\n",
      "city_ELK GROVE\n",
      "city_ELVERTA\n",
      "city_FAIR OAKS\n",
      "city_FOLSOM\n",
      "city_FORESTHILL\n",
      "city_GALT\n",
      "city_GARDEN VALLEY\n",
      "city_GOLD RIVER\n",
      "city_GRANITE BAY\n",
      "city_GREENWOOD\n",
      "city_LINCOLN\n",
      "city_LOOMIS\n",
      "city_MATHER\n",
      "city_MEADOW VISTA\n",
      "city_NORTH HIGHLANDS\n",
      "city_ORANGEVALE\n",
      "city_PENRYN\n",
      "city_PLACERVILLE\n",
      "city_POLLOCK PINES\n",
      "city_RANCHO CORDOVA\n",
      "city_RANCHO MURIETA\n",
      "city_RIO LINDA\n",
      "city_ROCKLIN\n",
      "city_ROSEVILLE\n",
      "city_SACRAMENTO\n",
      "city_SHINGLE SPRINGS\n",
      "city_SLOUGHHOUSE\n",
      "city_WALNUT GROVE\n",
      "city_WEST SACRAMENTO\n",
      "city_WILTON\n",
      "type_Multi-Family\n",
      "type_Residential\n",
      "type_Unkown\n",
      "sale_date_Mon May 19 00:00:00 EDT 2008\n",
      "sale_date_Thu May 15 00:00:00 EDT 2008\n",
      "sale_date_Tue May 20 00:00:00 EDT 2008\n",
      "sale_date_Wed May 21 00:00:00 EDT 2008\n"
     ]
    }
   ],
   "source": [
    "# ANSWER\n",
    "predictor_variables = df.columns[df.columns != target_variable].tolist()\n",
    "print(\"Predictor Variables:\")\n",
    "for var in predictor_variables:\n",
    "    print(var)"
   ]
  },
  {
   "cell_type": "markdown",
   "metadata": {
    "id": "yFZkIpXhXd32"
   },
   "source": [
    "#### 2.3 Find correlation between variables\n",
    "\n",
    "Find correlation between variables. Which is the best predictor? Why? State your reason."
   ]
  },
  {
   "cell_type": "code",
   "execution_count": 56,
   "metadata": {
    "id": "Nc8FHVnjXd32"
   },
   "outputs": [
    {
     "name": "stdout",
     "output_type": "stream",
     "text": [
      "Best Predictor Variable: baths\n",
      "Correlation Value: 0.416208066653066\n"
     ]
    }
   ],
   "source": [
    "# ANSWER\n",
    "correlations = df.corr()[target_variable].drop(target_variable)\n",
    "best_predictor = correlations.abs().idxmax()\n",
    "best_correlation = correlations.abs().max()\n",
    "print(f\"Best Predictor Variable: {best_predictor}\")\n",
    "print(f\"Correlation Value: {best_correlation}\")"
   ]
  },
  {
   "cell_type": "markdown",
   "metadata": {
    "id": "1vop_P66Xd35"
   },
   "source": [
    "#### 2.4 What is the simplest way to predict price\n",
    "\n",
    "So we have information for 985 houses. What is the easiest way to predict the price of a house using the price values alone? (Hint: it is a simple calculation)\n",
    "\n"
   ]
  },
  {
   "cell_type": "code",
   "execution_count": 58,
   "metadata": {
    "id": "p0xBzE9iXd35"
   },
   "outputs": [
    {
     "name": "stdout",
     "output_type": "stream",
     "text": [
      "Predicted Price of a New House: 234144.26395939087\n"
     ]
    }
   ],
   "source": [
    "# ANSWER\n",
    "average_price = df['price'].mean()\n",
    "predicted_price = average_price\n",
    "print(f\"Predicted Price of a New House: {predicted_price}\")"
   ]
  },
  {
   "cell_type": "markdown",
   "metadata": {
    "id": "8uRWVPNuXd38"
   },
   "source": [
    "#### 2.5 Find Residuals\n",
    "\n",
    "Find difference between actual value and predicted value. Use absolute value."
   ]
  },
  {
   "cell_type": "code",
   "execution_count": 62,
   "metadata": {
    "id": "PBzfNQsGXd39"
   },
   "outputs": [
    {
     "name": "stdout",
     "output_type": "stream",
     "text": [
      "   price  predicted_price      residuals\n",
      "0  59222    234144.263959  174922.263959\n",
      "1  68212    234144.263959  165932.263959\n",
      "2  68880    234144.263959  165264.263959\n",
      "3  69307    234144.263959  164837.263959\n",
      "4  81900    234144.263959  152244.263959\n"
     ]
    }
   ],
   "source": [
    "# ANSWER\n",
    "average_price = df['price'].mean()\n",
    "df['predicted_price'] = average_price\n",
    "df['residuals'] = abs(df['price'] - df['predicted_price'])\n",
    "print(df[['price', 'predicted_price', 'residuals']].head())\n"
   ]
  },
  {
   "cell_type": "markdown",
   "metadata": {
    "id": "5P61MoAsXd4B"
   },
   "source": [
    "#### 2.6  Predict Using Linear Regression\n",
    "\n",
    "[Simple Linear Regression](https://en.wikipedia.org/wiki/Simple_linear_regression#Fitting_the_regression_line)\n",
    "\n",
    "### $$\\hat{y} = \\beta_0 + \\beta_1 x$$\n",
    "\n",
    "> ### $$ \\beta_1 = \\frac{\\sum_{i=1}^n (y_i - \\bar{y} ) (x_i - \\bar{x} )}{\\sum_{i=1}^n (x_i - \\bar{x})^2} $$\n",
    "\n",
    "and\n",
    "\n",
    "> ### $$ \\beta_0 = \\bar{y} - \\beta_1\\bar{x} $$\n",
    "\n",
    "Given variables:\n",
    "- $\\bar{y}$ : the sample mean of observed values $Y$\n",
    "- $\\bar{x}$ : the sample mean of observed values $X$"
   ]
  },
  {
   "cell_type": "markdown",
   "metadata": {
    "id": "drP_xuAKXd4C"
   },
   "source": [
    "##### 2.7 Define X, Y\n",
    "\n",
    "- X = Predictor Variable\n",
    "- Y = Target Variable"
   ]
  },
  {
   "cell_type": "code",
   "execution_count": 20,
   "metadata": {
    "id": "yPWPQp3VXd4D"
   },
   "outputs": [],
   "source": [
    "# ANSWER\n",
    "X = df['sq__ft']  \n",
    "Y = df['price'] \n",
    "\n"
   ]
  },
  {
   "cell_type": "markdown",
   "metadata": {
    "id": "JkV3m-EqXd4F"
   },
   "source": [
    "##### 2.7.A Calculate beta_1\n",
    "\n",
    " ### $$ \\beta_1 = \\frac{\\sum_{i=1}^n (y_i - \\bar{y} ) (x_i - \\bar{x} )}{\\sum_{i=1}^n (x_i - \\bar{x})^2} $$"
   ]
  },
  {
   "cell_type": "code",
   "execution_count": 22,
   "metadata": {
    "id": "lcI1IAmXXd4G"
   },
   "outputs": [
    {
     "name": "stdout",
     "output_type": "stream",
     "text": [
      "Intercept (beta_0): 162930.16140699777\n",
      "Slope (beta_1): 54.158639688530755\n"
     ]
    }
   ],
   "source": [
    "mean_x = X.mean()\n",
    "mean_y = Y.mean()\n",
    "\n",
    " \n",
    "numerator = ((X - mean_x) * (Y - mean_y)).sum()\n",
    "denominator = ((X - mean_x) ** 2).sum()\n",
    "beta_1 = numerator / denominator\n",
    "\n",
    "# Calculate beta_0 (intercept)\n",
    "beta_0 = mean_y - beta_1 * mean_x\n",
    "\n",
    "print(f\"Intercept (beta_0): {beta_0}\")\n",
    "print(f\"Slope (beta_1): {beta_1}\")\n"
   ]
  },
  {
   "cell_type": "markdown",
   "metadata": {
    "id": "MoA9ez44Xd4I"
   },
   "source": [
    "##### 2.7.B Calculate beta_0"
   ]
  },
  {
   "cell_type": "markdown",
   "metadata": {
    "id": "V7fug5lMXd4K"
   },
   "source": [
    "### $$ \\beta_0 = \\bar{y} - \\beta_1\\bar{x} $$"
   ]
  },
  {
   "cell_type": "code",
   "execution_count": 24,
   "metadata": {
    "id": "bcu8ZhFLXd4L"
   },
   "outputs": [
    {
     "name": "stdout",
     "output_type": "stream",
     "text": [
      "Intercept (beta_0): 162930.16140699777\n",
      "Slope (beta_1): 54.158639688530755\n"
     ]
    }
   ],
   "source": [
    "mean_x = X.mean()\n",
    "mean_y = Y.mean()\n",
    "\n",
    " \n",
    "numerator = ((X - mean_x) * (Y - mean_y)).sum()\n",
    "denominator = ((X - mean_x) ** 2).sum()\n",
    "beta_1 = numerator / denominator\n",
    "\n",
    "# Calculate beta_0 (intercept)\n",
    "beta_0 = mean_y - beta_1 * mean_x\n",
    "\n",
    "print(f\"Intercept (beta_0): {beta_0}\")\n",
    "print(f\"Slope (beta_1): {beta_1}\")\n"
   ]
  },
  {
   "cell_type": "markdown",
   "metadata": {
    "id": "Z9EUGv1KXd4N"
   },
   "source": [
    "##### 2.7.C Find Yhat (Predicted Value Using Beta 0 and Beta 1)"
   ]
  },
  {
   "cell_type": "markdown",
   "metadata": {
    "id": "gSRcDL57Xd4O"
   },
   "source": [
    "### $$\\hat{y} = \\beta_0 + \\beta_1 x$$"
   ]
  },
  {
   "cell_type": "code",
   "execution_count": 26,
   "metadata": {
    "id": "lGkoNedwXd4P"
   },
   "outputs": [
    {
     "name": "stdout",
     "output_type": "stream",
     "text": [
      "Intercept (beta_0): 162930.16140699777\n",
      "Slope (beta_1): 54.158639688530755\n"
     ]
    }
   ],
   "source": [
    "# ANSWER\n",
    "beta_0 = mean_y - beta_1 * mean_x\n",
    "Yhat = beta_0 + beta_1 * X\n",
    "print(f\"Intercept (beta_0): {beta_0}\")\n",
    "print(f\"Slope (beta_1): {beta_1}\")"
   ]
  },
  {
   "cell_type": "markdown",
   "metadata": {
    "id": "h1D-rddfXd4R"
   },
   "source": [
    "##### 2.7.D Find Residuals"
   ]
  },
  {
   "cell_type": "markdown",
   "metadata": {
    "id": "2cha8XAQXd4S"
   },
   "source": [
    "### $$ \\text{residual}_i = y_i - \\hat{y}_i$$"
   ]
  },
  {
   "cell_type": "code",
   "execution_count": 28,
   "metadata": {
    "id": "dLZgRjbGXd4S"
   },
   "outputs": [
    {
     "name": "stdout",
     "output_type": "stream",
     "text": [
      "First few residuals:\n",
      "0   -148984.784187\n",
      "1   -157921.293924\n",
      "2   -137160.438599\n",
      "3   -139766.322422\n",
      "4   -124194.597239\n",
      "dtype: float64\n",
      "First few absolute residuals:\n",
      "0    148984.784187\n",
      "1    157921.293924\n",
      "2    137160.438599\n",
      "3    139766.322422\n",
      "4    124194.597239\n",
      "dtype: float64\n"
     ]
    }
   ],
   "source": [
    "# ANSWER\n",
    "residuals = Y - Yhat\n",
    "absolute_residuals = abs(residuals)\n",
    "print(f\"First few residuals:\\n{residuals.head()}\")\n",
    "print(f\"First few absolute residuals:\\n{absolute_residuals.head()}\")\n"
   ]
  },
  {
   "cell_type": "markdown",
   "metadata": {
    "id": "bpXEda_uXd4U"
   },
   "source": [
    "##### 2.7.E Find R-Squared\n",
    "\n",
    "The coefficient $R^2$ is defined as $$ R^2 = 1 - \\frac{SS_{res}}{SS_{tot}} $$, where $$ SS_{res} $$ is the residual sum of squares $$ SS_{res} = \\sum_{i=1}^n \\left(y_i - \\hat{y}_i\\right)^2 $$ and $$ SS_{res} $$ is the total sum of squares $$ SS_{tot} = \\sum_{i=1}^n \\left(y_i - \\bar{y}\\right)^2 $$\n",
    "\n",
    "The best possible score is 1.0 and it can be negative (because the model can be arbitrarily worse).\n",
    "\n",
    "**Write a function to calculate R- Square value.**"
   ]
  },
  {
   "cell_type": "markdown",
   "metadata": {
    "id": "1RamI9LTXd4V"
   },
   "source": [
    "The total sum of squares:\n",
    "\n",
    "### $$ SS_{tot} = \\sum_{i=1}^n \\left(y_i - \\bar{y}\\right)^2 $$\n",
    "\n",
    "The residual sum of squares:\n",
    "\n",
    "### $$ SS_{res} = \\sum_{i=1}^n \\left(y_i - \\hat{y}_i\\right)^2 $$\n",
    "\n",
    "$R^2$:\n",
    "\n",
    "### $$ R^2 = 1 - \\frac{SS_{res}}{SS_{tot}} $$"
   ]
  },
  {
   "cell_type": "code",
   "execution_count": 30,
   "metadata": {
    "id": "vmxloC2RXd4W"
   },
   "outputs": [
    {
     "name": "stdout",
     "output_type": "stream",
     "text": [
      "R-squared: 0.11148717682951459\n"
     ]
    }
   ],
   "source": [
    "# ANSWER\n",
    "ss_res = (residuals ** 2).sum()\n",
    "ss_tot = ((Y - mean_y) ** 2).sum()\n",
    "r_squared = 1 - (ss_res / ss_tot)\n",
    "print(f\"R-squared: {r_squared}\")"
   ]
  },
  {
   "cell_type": "markdown",
   "metadata": {
    "id": "7xV-CEKcXd4a"
   },
   "source": [
    "##### 2.7.F [BONUS] Draw Plot of Predicted Line"
   ]
  },
  {
   "cell_type": "code",
   "execution_count": 44,
   "metadata": {
    "id": "P4JKmHWSXd4a"
   },
   "outputs": [
    {
     "data": {
      "image/png": "[encoded data removed]",
      "text/plain": [
       "<Figure size 640x480 with 1 Axes>"
      ]
     },
     "metadata": {},
     "output_type": "display_data"
    }
   ],
   "source": [
    "# ANSWER\n",
    "Yhat = beta_0 + beta_1 * X\n",
    "plt.scatter(X, Y, color='blue', label='Actual Data')\n",
    "plt.plot(X, Yhat, color='red', label='Predicted Line')\n",
    "plt.xlabel('Square Feet (sqft)')\n",
    "plt.ylabel('Price')\n",
    "plt.title('Square Feet vs. Price')\n",
    "plt.legend()\n",
    "plt.show()"
   ]
  },
  {
   "cell_type": "markdown",
   "metadata": {
    "id": "oE45Z1qaXd4f"
   },
   "source": [
    "##### 2.7.G [BONUS] Draw Plot of Predicted Line With Residuals"
   ]
  },
  {
   "cell_type": "code",
   "execution_count": 46,
   "metadata": {
    "id": "yBLDh6cAXd4g"
   },
   "outputs": [
    {
     "data": {
      "image/png": "[encoded data removed]",
      "text/plain": [
       "<Figure size 640x480 with 1 Axes>"
      ]
     },
     "metadata": {},
     "output_type": "display_data"
    }
   ],
   "source": [
    "# ANSWER\n",
    "residuals = Y - Yhat\n",
    "plt.scatter(X, Y, color='blue', label='Actual Data')\n",
    "plt.plot(X, Yhat, color='red', label='Predicted Line')\n",
    "for i in range(len(X)):\n",
    "    plt.vlines(X.iloc[i], Yhat.iloc[i], Y.iloc[i], color='gray', linestyle='dotted')\n",
    "plt.xlabel('Square Feet (sqft)')\n",
    "plt.ylabel('Price')\n",
    "plt.title('Square Feet vs. Price with Residuals')\n",
    "plt.legend()\n",
    "plt.show()"
   ]
  },
  {
   "cell_type": "markdown",
   "metadata": {
    "id": "NTjW6xxFXd4i"
   },
   "source": [
    "### 3. Predict House Price\n",
    "\n",
    "Let's assume we have information of following house:\n",
    "\n",
    "- street:\t1140 EDMONTON DR\n",
    "- city:\tSACRAMENTO\n",
    "- zip:\t95833\n",
    "- state:\tCA\n",
    "- beds:\t3\n",
    "- baths:\t2\n",
    "- sq__ft:\t1204\n",
    "- type:\tResidential\n",
    "\n",
    "**Predict the price of this house.**"
   ]
  },
  {
   "cell_type": "code",
   "execution_count": 52,
   "metadata": {
    "id": "mz5Lx5jGXd4j"
   },
   "outputs": [
    {
     "name": "stdout",
     "output_type": "stream",
     "text": [
      "The predicted price of the house is: $228137.16\n"
     ]
    }
   ],
   "source": [
    "# ANSWER\n",
    "house_sqft = 1204\n",
    "predicted_price = beta_0 + beta_1 * house_sqft\n",
    "print(f\"The predicted price of the house is: ${predicted_price:.2f}\")"
   ]
  },
  {
   "cell_type": "markdown",
   "metadata": {
    "id": "W0FUjKlcl-NJ"
   },
   "source": [
    "\n",
    "\n",
    "---\n",
    "\n",
    "\n",
    "\n",
    "---\n",
    "\n",
    "\n",
    "\n",
    "> > > > > > > > > © 2024 Institute of Data\n",
    "\n",
    "\n",
    "---\n",
    "\n",
    "\n",
    "\n",
    "---\n",
    "\n",
    "\n",
    "\n"
   ]
  }
 ],
 "metadata": {
  "colab": {
   "provenance": []
  },
  "kernelspec": {
   "display_name": "Python 3 (ipykernel)",
   "language": "python",
   "name": "python3"
  },
  "language_info": {
   "codemirror_mode": {
    "name": "ipython",
    "version": 3
   },
   "file_extension": ".py",
   "mimetype": "text/x-python",
   "name": "python",
   "nbconvert_exporter": "python",
   "pygments_lexer": "ipython3",
   "version": "3.11.7"
  }
 },
 "nbformat": 4,
 "nbformat_minor": 4
}
